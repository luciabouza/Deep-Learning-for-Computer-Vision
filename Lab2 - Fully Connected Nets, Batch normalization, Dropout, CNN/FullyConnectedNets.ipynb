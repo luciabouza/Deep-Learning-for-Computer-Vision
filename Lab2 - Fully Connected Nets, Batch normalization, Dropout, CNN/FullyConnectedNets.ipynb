{
 "cells": [
  {
   "cell_type": "markdown",
   "metadata": {
    "id": "WQ9G79c6tcl2",
    "tags": [
     "pdf-title"
    ]
   },
   "source": [
    "# Fully-Connected Neural Nets\n",
    "In the previous homework you implemented a fully-connected two-layer neural network on CIFAR-10. The implementation was simple but not very modular since the loss and gradient were computed in a single monolithic function. This is manageable for a simple two-layer network, but would become impractical as we move to bigger models. Ideally we want to build networks using a more modular design so that we can implement different layer types in isolation and then snap them together into models with different architectures."
   ]
  },
  {
   "cell_type": "markdown",
   "metadata": {
    "id": "HlMJTPuAtcl3",
    "tags": [
     "pdf-ignore"
    ]
   },
   "source": [
    "In this exercise we will implement fully-connected networks using a more modular approach. For each layer we will implement a `forward` and a `backward` function. The `forward` function will receive inputs, weights, and other parameters and will return both an output and a `cache` object storing data needed for the backward pass, like this:\n",
    "\n",
    "```python\n",
    "def layer_forward(x, w):\n",
    "  \"\"\" Receive inputs x and weights w \"\"\"\n",
    "  # Do some computations ...\n",
    "  z = # ... some intermediate value\n",
    "  # Do some more computations ...\n",
    "  out = # the output\n",
    "   \n",
    "  cache = (x, w, z, out) # Values we need to compute gradients\n",
    "   \n",
    "  return out, cache\n",
    "```\n",
    "\n",
    "The backward pass will receive upstream derivatives and the `cache` object, and will return gradients with respect to the inputs and weights, like this:\n",
    "\n",
    "```python\n",
    "def layer_backward(dout, cache):\n",
    "  \"\"\"\n",
    "  Receive dout (derivative of loss with respect to outputs) and cache,\n",
    "  and compute derivative with respect to inputs.\n",
    "  \"\"\"\n",
    "  # Unpack cache values\n",
    "  x, w, z, out = cache\n",
    "  \n",
    "  # Use values in cache to compute derivatives\n",
    "  dx = # Derivative of loss with respect to x\n",
    "  dw = # Derivative of loss with respect to w\n",
    "  \n",
    "  return dx, dw\n",
    "```\n",
    "\n",
    "After implementing a bunch of layers this way, we will be able to easily combine them to build classifiers with different architectures.\n",
    "\n",
    "In addition to implementing fully-connected networks of arbitrary depth, we will also explore different update rules for optimization, and introduce Dropout as a regularizer and Batch/Layer Normalization as a tool to more efficiently optimize deep networks.\n",
    "  "
   ]
  },
  {
   "cell_type": "code",
   "execution_count": 1,
   "metadata": {
    "id": "kJtrdbD9tcl3",
    "tags": [
     "pdf-ignore"
    ]
   },
   "outputs": [],
   "source": [
    "# As usual, a bit of setup\n",
    "from __future__ import print_function\n",
    "import time\n",
    "import numpy as np\n",
    "import matplotlib.pyplot as plt\n",
    "from cs231n.classifiers.fc_net import *\n",
    "from cs231n.data_utils import get_CIFAR10_data\n",
    "from cs231n.gradient_check import eval_numerical_gradient, eval_numerical_gradient_array\n",
    "from cs231n.solver import Solver\n",
    "\n",
    "%matplotlib inline\n",
    "plt.rcParams['figure.figsize'] = (10.0, 8.0) # set default size of plots\n",
    "plt.rcParams['image.interpolation'] = 'nearest'\n",
    "plt.rcParams['image.cmap'] = 'gray'\n",
    "\n",
    "# for auto-reloading external modules\n",
    "# see http://stackoverflow.com/questions/1907993/autoreload-of-modules-in-ipython\n",
    "%load_ext autoreload\n",
    "%autoreload 2\n",
    "\n",
    "def rel_error(x, y):\n",
    "  \"\"\" returns relative error \"\"\"\n",
    "  return np.max(np.abs(x - y) / (np.maximum(1e-8, np.abs(x) + np.abs(y))))"
   ]
  },
  {
   "cell_type": "code",
   "execution_count": 2,
   "metadata": {
    "id": "UMYqBTG_tcl6",
    "tags": [
     "pdf-ignore"
    ]
   },
   "outputs": [
    {
     "name": "stdout",
     "output_type": "stream",
     "text": [
      "('X_train: ', (49000, 3, 32, 32))\n",
      "('y_train: ', (49000,))\n",
      "('X_val: ', (1000, 3, 32, 32))\n",
      "('y_val: ', (1000,))\n",
      "('X_test: ', (1000, 3, 32, 32))\n",
      "('y_test: ', (1000,))\n"
     ]
    }
   ],
   "source": [
    "# Load the (preprocessed) CIFAR10 data.\n",
    "\n",
    "data = get_CIFAR10_data()\n",
    "for k, v in list(data.items()):\n",
    "  print(('%s: ' % k, v.shape))"
   ]
  },
  {
   "cell_type": "markdown",
   "metadata": {
    "id": "_vn9F4astcl8"
   },
   "source": [
    "# Affine layer: forward\n",
    "Open the file `cs231n/layers.py` and implement the `affine_forward` function.\n",
    "\n",
    "Once you are done you can test your implementaion by running the following:"
   ]
  },
  {
   "cell_type": "code",
   "execution_count": 3,
   "metadata": {
    "id": "l9-Q6wNntcl9"
   },
   "outputs": [
    {
     "name": "stdout",
     "output_type": "stream",
     "text": [
      "Testing affine_forward function:\n",
      "difference:  9.769849468192957e-10\n"
     ]
    }
   ],
   "source": [
    "# Test the affine_forward function\n",
    "\n",
    "num_inputs = 2\n",
    "input_shape = (4, 5, 6)\n",
    "output_dim = 3\n",
    "\n",
    "input_size = num_inputs * np.prod(input_shape)\n",
    "weight_size = output_dim * np.prod(input_shape)\n",
    "\n",
    "x = np.linspace(-0.1, 0.5, num=input_size).reshape(num_inputs, *input_shape)\n",
    "w = np.linspace(-0.2, 0.3, num=weight_size).reshape(np.prod(input_shape), output_dim)\n",
    "b = np.linspace(-0.3, 0.1, num=output_dim)\n",
    "\n",
    "out, _ = affine_forward(x, w, b)\n",
    "correct_out = np.array([[ 1.49834967,  1.70660132,  1.91485297],\n",
    "                        [ 3.25553199,  3.5141327,   3.77273342]])\n",
    "\n",
    "# Compare your output with ours. The error should be around e-9 or less.\n",
    "print('Testing affine_forward function:')\n",
    "print('difference: ', rel_error(out, correct_out))"
   ]
  },
  {
   "cell_type": "markdown",
   "metadata": {
    "id": "rk3z6nbVtcl_"
   },
   "source": [
    "# Affine layer: backward\n",
    "Now implement the `affine_backward` function and test your implementation using numeric gradient checking."
   ]
  },
  {
   "cell_type": "code",
   "execution_count": 4,
   "metadata": {
    "id": "QwhfW1LctcmA"
   },
   "outputs": [
    {
     "name": "stdout",
     "output_type": "stream",
     "text": [
      "Testing affine_backward function:\n",
      "dx error:  5.399100368651805e-11\n",
      "dw error:  9.904211865398145e-11\n",
      "db error:  2.4122867568119087e-11\n"
     ]
    }
   ],
   "source": [
    "# Test the affine_backward function\n",
    "np.random.seed(231)\n",
    "x = np.random.randn(10, 2, 3)\n",
    "w = np.random.randn(6, 5)\n",
    "b = np.random.randn(5)\n",
    "dout = np.random.randn(10, 5)\n",
    "\n",
    "dx_num = eval_numerical_gradient_array(lambda x: affine_forward(x, w, b)[0], x, dout)\n",
    "dw_num = eval_numerical_gradient_array(lambda w: affine_forward(x, w, b)[0], w, dout)\n",
    "db_num = eval_numerical_gradient_array(lambda b: affine_forward(x, w, b)[0], b, dout)\n",
    "\n",
    "_, cache = affine_forward(x, w, b)\n",
    "dx, dw, db = affine_backward(dout, cache)\n",
    "\n",
    "# The error should be around e-10 or less\n",
    "print('Testing affine_backward function:')\n",
    "print('dx error: ', rel_error(dx_num, dx))\n",
    "print('dw error: ', rel_error(dw_num, dw))\n",
    "print('db error: ', rel_error(db_num, db))"
   ]
  },
  {
   "cell_type": "markdown",
   "metadata": {
    "id": "U1sldARqtcmC"
   },
   "source": [
    "# ReLU activation: forward\n",
    "Implement the forward pass for the ReLU activation function in the `relu_forward` function and test your implementation using the following:"
   ]
  },
  {
   "cell_type": "code",
   "execution_count": 5,
   "metadata": {
    "id": "764zQRXitcmD"
   },
   "outputs": [
    {
     "name": "stdout",
     "output_type": "stream",
     "text": [
      "Testing relu_forward function:\n",
      "difference:  4.999999798022158e-08\n"
     ]
    }
   ],
   "source": [
    "# Test the relu_forward function\n",
    "\n",
    "x = np.linspace(-0.5, 0.5, num=12).reshape(3, 4)\n",
    "\n",
    "out, _ = relu_forward(x)\n",
    "correct_out = np.array([[ 0.,          0.,          0.,          0.,        ],\n",
    "                        [ 0.,          0.,          0.04545455,  0.13636364,],\n",
    "                        [ 0.22727273,  0.31818182,  0.40909091,  0.5,       ]])\n",
    "\n",
    "# Compare your output with ours. The error should be on the order of e-8\n",
    "print('Testing relu_forward function:')\n",
    "print('difference: ', rel_error(out, correct_out))"
   ]
  },
  {
   "cell_type": "markdown",
   "metadata": {
    "id": "RcoeLGtotcmF"
   },
   "source": [
    "# ReLU activation: backward\n",
    "Now implement the backward pass for the ReLU activation function in the `relu_backward` function and test your implementation using numeric gradient checking:"
   ]
  },
  {
   "cell_type": "code",
   "execution_count": 6,
   "metadata": {
    "id": "aHRSdSV4tcmG"
   },
   "outputs": [
    {
     "name": "stdout",
     "output_type": "stream",
     "text": [
      "Testing relu_backward function:\n",
      "dx error:  3.2756349136310288e-12\n"
     ]
    }
   ],
   "source": [
    "np.random.seed(231)\n",
    "x = np.random.randn(10, 10)\n",
    "dout = np.random.randn(*x.shape)\n",
    "\n",
    "dx_num = eval_numerical_gradient_array(lambda x: relu_forward(x)[0], x, dout)\n",
    "\n",
    "_, cache = relu_forward(x)\n",
    "dx = relu_backward(dout, cache)\n",
    "\n",
    "# The error should be on the order of e-12\n",
    "print('Testing relu_backward function:')\n",
    "print('dx error: ', rel_error(dx_num, dx))"
   ]
  },
  {
   "cell_type": "markdown",
   "metadata": {
    "id": "pJInraWGtcmI",
    "tags": [
     "pdf-inline"
    ]
   },
   "source": [
    "## Inline Question 1: \n",
    "\n",
    "We've only asked you to implement ReLU, but there are a number of different activation functions that one could use in neural networks, each with its pros and cons. In particular, an issue commonly seen with activation functions is getting zero (or close to zero) gradient flow during backpropagation. Which of the following activation functions have this problem? If you consider these functions in the one dimensional case, what types of input would lead to this behaviour?\n",
    "1. Sigmoid\n",
    "2. ReLU\n",
    "3. Leaky ReLU\n",
    "4. ELU (Exponential Linear Unit)\n",
    "## Answer:\n",
    "\n",
    "La función Sigmoide tiene el problema que puede saturar a las neuronas, y cuando esto se da, el aprendizaje de dicha neurona se vuelve muy lento, o simplemente no se da. Esto sucede cuando el valor de activación está muy cerca de cero o uno (x tendiendo a infinito o menos infinito), y en esos casos el gradiente tiende a cero. \n",
    "\n",
    "ReLu no tiene ese problema para cuando x>=0, pero cuando x es negativa, dichas neuronas no pueden aprender (neuronas muertas). A ELU le sucede igual cunado x tiende a menos infinito, ya que en dicho caso el gradiente tiende a cero.\n",
    "\n",
    "En el caso de Leaky ReLU, para x<0, no tenemos el problema de las neuronas muertas ya que el gradiente, si bien pequeño, no es cero ni tiende a cero.  \n"
   ]
  },
  {
   "cell_type": "markdown",
   "metadata": {
    "id": "JobtBD1JwPmM"
   },
   "source": [
    "## Inline Question 2: \n",
    "\n",
    "How would you implement the backward pass of a LeakyReLU layer, with slope parameter  ```alpha```?\n",
    "\n",
    "You don't need to make it work. Just write **one line of code** with the important part in the space below. Assume the same variable names as in the ReLU functions of ```layers.py```.\n",
    "\n",
    "\n",
    "## Answer:\n",
    "\n",
    "\n",
    "dx = dout\n",
    "\n",
    "dx[x <=0] = alpha * dx\n"
   ]
  },
  {
   "cell_type": "markdown",
   "metadata": {
    "id": "l-Xl_xHUtcmJ"
   },
   "source": [
    "# \"Sandwich\" layers\n",
    "There are some common patterns of layers that are frequently used in neural nets. For example, affine layers are frequently followed by a ReLU nonlinearity. To make these common patterns easy, we define several convenience layers in the file `cs231n/layer_utils.py`.\n",
    "\n",
    "For now take a look at the `affine_relu_forward` and `affine_relu_backward` functions, and run the following to numerically gradient check the backward pass:"
   ]
  },
  {
   "cell_type": "code",
   "execution_count": 7,
   "metadata": {
    "id": "dZf0aGpltcmJ"
   },
   "outputs": [
    {
     "name": "stdout",
     "output_type": "stream",
     "text": [
      "Testing affine_relu_forward and affine_relu_backward:\n",
      "dx error:  2.299579177309368e-11\n",
      "dw error:  8.162011105764925e-11\n",
      "db error:  7.826724021458994e-12\n"
     ]
    }
   ],
   "source": [
    "from cs231n.layer_utils import affine_relu_forward, affine_relu_backward\n",
    "np.random.seed(231)\n",
    "x = np.random.randn(2, 3, 4)\n",
    "w = np.random.randn(12, 10)\n",
    "b = np.random.randn(10)\n",
    "dout = np.random.randn(2, 10)\n",
    "\n",
    "out, cache = affine_relu_forward(x, w, b)\n",
    "dx, dw, db = affine_relu_backward(dout, cache)\n",
    "\n",
    "dx_num = eval_numerical_gradient_array(lambda x: affine_relu_forward(x, w, b)[0], x, dout)\n",
    "dw_num = eval_numerical_gradient_array(lambda w: affine_relu_forward(x, w, b)[0], w, dout)\n",
    "db_num = eval_numerical_gradient_array(lambda b: affine_relu_forward(x, w, b)[0], b, dout)\n",
    "\n",
    "# Relative error should be around e-10 or less\n",
    "print('Testing affine_relu_forward and affine_relu_backward:')\n",
    "print('dx error: ', rel_error(dx_num, dx))\n",
    "print('dw error: ', rel_error(dw_num, dw))\n",
    "print('db error: ', rel_error(db_num, db))"
   ]
  },
  {
   "cell_type": "markdown",
   "metadata": {
    "id": "OqHvZj75tcmL"
   },
   "source": [
    "# Loss layers: Softmax and SVM\n",
    "You implemented these loss functions in the last assignment, so we'll give them to you for free here. You should still make sure you understand how they work by looking at the implementations in `cs231n/layers.py`.\n",
    "\n",
    "You can make sure that the implementations are correct by running the following:"
   ]
  },
  {
   "cell_type": "code",
   "execution_count": 8,
   "metadata": {
    "id": "-NBXvjk2tcmM"
   },
   "outputs": [
    {
     "name": "stdout",
     "output_type": "stream",
     "text": [
      "Testing svm_loss:\n",
      "loss:  8.999602749096233\n",
      "dx error:  1.4021566006651672e-09\n",
      "\n",
      "Testing softmax_loss:\n",
      "loss:  2.302545844500738\n",
      "dx error:  9.384673161989355e-09\n"
     ]
    }
   ],
   "source": [
    "np.random.seed(231)\n",
    "num_classes, num_inputs = 10, 50\n",
    "x = 0.001 * np.random.randn(num_inputs, num_classes)\n",
    "y = np.random.randint(num_classes, size=num_inputs)\n",
    "\n",
    "dx_num = eval_numerical_gradient(lambda x: svm_loss(x, y)[0], x, verbose=False)\n",
    "loss, dx = svm_loss(x, y)\n",
    "\n",
    "# Test svm_loss function. Loss should be around 9 and dx error should be around the order of e-9\n",
    "print('Testing svm_loss:')\n",
    "print('loss: ', loss)\n",
    "print('dx error: ', rel_error(dx_num, dx))\n",
    "\n",
    "dx_num = eval_numerical_gradient(lambda x: softmax_loss(x, y)[0], x, verbose=False)\n",
    "loss, dx = softmax_loss(x, y)\n",
    "\n",
    "# Test softmax_loss function. Loss should be close to 2.3 and dx error should be around e-8\n",
    "print('\\nTesting softmax_loss:')\n",
    "print('loss: ', loss)\n",
    "print('dx error: ', rel_error(dx_num, dx))"
   ]
  },
  {
   "cell_type": "markdown",
   "metadata": {
    "id": "7zOHGe1atcmO"
   },
   "source": [
    "# Two-layer network\n",
    "In the previous assignment you implemented a two-layer neural network in a single monolithic class. Now that you have implemented modular versions of the necessary layers, you will reimplement the two layer network using these modular implementations.\n",
    "\n",
    "Open the file `cs231n/classifiers/fc_net.py` and complete the implementation of the `TwoLayerNet` class. This class will serve as a model for the other networks you will implement in this assignment, so read through it to make sure you understand the API. You can run the cell below to test your implementation."
   ]
  },
  {
   "cell_type": "code",
   "execution_count": 9,
   "metadata": {
    "id": "jMufp9V1tcmO"
   },
   "outputs": [
    {
     "name": "stdout",
     "output_type": "stream",
     "text": [
      "Testing initialization ... \n",
      "Testing test-time forward pass ... \n",
      "Testing training loss (no regularization)\n",
      "Running numeric gradient check with reg =  0.0\n",
      "W1 relative error: 1.83e-08\n",
      "W2 relative error: 3.12e-10\n",
      "b1 relative error: 9.83e-09\n",
      "b2 relative error: 4.33e-10\n",
      "Running numeric gradient check with reg =  0.7\n",
      "W1 relative error: 2.53e-07\n",
      "W2 relative error: 2.85e-08\n",
      "b1 relative error: 1.56e-08\n",
      "b2 relative error: 7.76e-10\n"
     ]
    }
   ],
   "source": [
    "np.random.seed(231)\n",
    "N, D, H, C = 3, 5, 50, 7\n",
    "X = np.random.randn(N, D)\n",
    "y = np.random.randint(C, size=N)\n",
    "\n",
    "std = 1e-3\n",
    "model = TwoLayerNet(input_dim=D, hidden_dim=H, num_classes=C, weight_scale=std)\n",
    "\n",
    "print('Testing initialization ... ')\n",
    "W1_std = abs(model.params['W1'].std() - std)\n",
    "b1 = model.params['b1']\n",
    "W2_std = abs(model.params['W2'].std() - std)\n",
    "b2 = model.params['b2']\n",
    "assert W1_std < std / 10, 'First layer weights do not seem right'\n",
    "assert np.all(b1 == 0), 'First layer biases do not seem right'\n",
    "assert W2_std < std / 10, 'Second layer weights do not seem right'\n",
    "assert np.all(b2 == 0), 'Second layer biases do not seem right'\n",
    "\n",
    "print('Testing test-time forward pass ... ')\n",
    "model.params['W1'] = np.linspace(-0.7, 0.3, num=D*H).reshape(D, H)\n",
    "model.params['b1'] = np.linspace(-0.1, 0.9, num=H)\n",
    "model.params['W2'] = np.linspace(-0.3, 0.4, num=H*C).reshape(H, C)\n",
    "model.params['b2'] = np.linspace(-0.9, 0.1, num=C)\n",
    "X = np.linspace(-5.5, 4.5, num=N*D).reshape(D, N).T\n",
    "scores = model.loss(X)\n",
    "correct_scores = np.asarray(\n",
    "  [[11.53165108,  12.2917344,   13.05181771,  13.81190102,  14.57198434, 15.33206765,  16.09215096],\n",
    "   [12.05769098,  12.74614105,  13.43459113,  14.1230412,   14.81149128, 15.49994135,  16.18839143],\n",
    "   [12.58373087,  13.20054771,  13.81736455,  14.43418138,  15.05099822, 15.66781506,  16.2846319 ]])\n",
    "scores_diff = np.abs(scores - correct_scores).sum()\n",
    "assert scores_diff < 1e-6, 'Problem with test-time forward pass'\n",
    "\n",
    "print('Testing training loss (no regularization)')\n",
    "y = np.asarray([0, 5, 1])\n",
    "loss, grads = model.loss(X, y)\n",
    "correct_loss = 3.4702243556\n",
    "assert abs(loss - correct_loss) < 1e-10, 'Problem with training-time loss'\n",
    "\n",
    "model.reg = 1.0\n",
    "loss, grads = model.loss(X, y)\n",
    "correct_loss = 26.5948426952\n",
    "assert abs(loss - correct_loss) < 1e-10, 'Problem with regularization loss'\n",
    "\n",
    "# Errors should be around e-7 or less\n",
    "for reg in [0.0, 0.7]:\n",
    "  print('Running numeric gradient check with reg = ', reg)\n",
    "  model.reg = reg\n",
    "  loss, grads = model.loss(X, y)\n",
    "\n",
    "  for name in sorted(grads):\n",
    "    f = lambda _: model.loss(X, y)[0]\n",
    "    grad_num = eval_numerical_gradient(f, model.params[name], verbose=False)\n",
    "    print('%s relative error: %.2e' % (name, rel_error(grad_num, grads[name])))"
   ]
  },
  {
   "cell_type": "markdown",
   "metadata": {
    "id": "f2CeNS4ytcmQ"
   },
   "source": [
    "# Solver\n",
    "In the previous assignment, the logic for training models was coupled to the models themselves. Following a more modular design, for this assignment we have split the logic for training models into a separate class.\n",
    "\n",
    "Open the file `cs231n/solver.py` and read through it to familiarize yourself with the API. After doing so, use a `Solver` instance to train a `TwoLayerNet` that achieves at least `50%` accuracy on the validation set."
   ]
  },
  {
   "cell_type": "code",
   "execution_count": 10,
   "metadata": {
    "id": "tln_solver_accuracy"
   },
   "outputs": [
    {
     "name": "stdout",
     "output_type": "stream",
     "text": [
      "(Iteration 1 / 4900) loss: 2.304060\n",
      "(Epoch 0 / 10) train acc: 0.116000; val_acc: 0.094000\n",
      "(Iteration 101 / 4900) loss: 1.829613\n",
      "(Iteration 201 / 4900) loss: 1.857390\n",
      "(Iteration 301 / 4900) loss: 1.744448\n",
      "(Iteration 401 / 4900) loss: 1.420187\n",
      "(Epoch 1 / 10) train acc: 0.407000; val_acc: 0.422000\n",
      "(Iteration 501 / 4900) loss: 1.565913\n",
      "(Iteration 601 / 4900) loss: 1.700510\n",
      "(Iteration 701 / 4900) loss: 1.732213\n",
      "(Iteration 801 / 4900) loss: 1.688361\n",
      "(Iteration 901 / 4900) loss: 1.439529\n",
      "(Epoch 2 / 10) train acc: 0.497000; val_acc: 0.468000\n",
      "(Iteration 1001 / 4900) loss: 1.385772\n",
      "(Iteration 1101 / 4900) loss: 1.278401\n",
      "(Iteration 1201 / 4900) loss: 1.641580\n",
      "(Iteration 1301 / 4900) loss: 1.438847\n",
      "(Iteration 1401 / 4900) loss: 1.172536\n",
      "(Epoch 3 / 10) train acc: 0.490000; val_acc: 0.466000\n",
      "(Iteration 1501 / 4900) loss: 1.346286\n",
      "(Iteration 1601 / 4900) loss: 1.268492\n",
      "(Iteration 1701 / 4900) loss: 1.318215\n",
      "(Iteration 1801 / 4900) loss: 1.395750\n",
      "(Iteration 1901 / 4900) loss: 1.338233\n",
      "(Epoch 4 / 10) train acc: 0.532000; val_acc: 0.497000\n",
      "(Iteration 2001 / 4900) loss: 1.343165\n",
      "(Iteration 2101 / 4900) loss: 1.393173\n",
      "(Iteration 2201 / 4900) loss: 1.276734\n",
      "(Iteration 2301 / 4900) loss: 1.287951\n",
      "(Iteration 2401 / 4900) loss: 1.352778\n",
      "(Epoch 5 / 10) train acc: 0.525000; val_acc: 0.475000\n",
      "(Iteration 2501 / 4900) loss: 1.390234\n",
      "(Iteration 2601 / 4900) loss: 1.276361\n",
      "(Iteration 2701 / 4900) loss: 1.111768\n",
      "(Iteration 2801 / 4900) loss: 1.271688\n",
      "(Iteration 2901 / 4900) loss: 1.272039\n",
      "(Epoch 6 / 10) train acc: 0.546000; val_acc: 0.509000\n",
      "(Iteration 3001 / 4900) loss: 1.304489\n",
      "(Iteration 3101 / 4900) loss: 1.346667\n",
      "(Iteration 3201 / 4900) loss: 1.325510\n",
      "(Iteration 3301 / 4900) loss: 1.392728\n",
      "(Iteration 3401 / 4900) loss: 1.402001\n",
      "(Epoch 7 / 10) train acc: 0.567000; val_acc: 0.505000\n",
      "(Iteration 3501 / 4900) loss: 1.319024\n",
      "(Iteration 3601 / 4900) loss: 1.153287\n",
      "(Iteration 3701 / 4900) loss: 1.180922\n",
      "(Iteration 3801 / 4900) loss: 1.093164\n",
      "(Iteration 3901 / 4900) loss: 1.135902\n",
      "(Epoch 8 / 10) train acc: 0.568000; val_acc: 0.490000\n",
      "(Iteration 4001 / 4900) loss: 1.191735\n",
      "(Iteration 4101 / 4900) loss: 1.359396\n",
      "(Iteration 4201 / 4900) loss: 1.227283\n",
      "(Iteration 4301 / 4900) loss: 1.024113\n",
      "(Iteration 4401 / 4900) loss: 1.327583\n",
      "(Epoch 9 / 10) train acc: 0.592000; val_acc: 0.504000\n",
      "(Iteration 4501 / 4900) loss: 0.963330\n",
      "(Iteration 4601 / 4900) loss: 1.445619\n",
      "(Iteration 4701 / 4900) loss: 1.007542\n",
      "(Iteration 4801 / 4900) loss: 1.005175\n",
      "(Epoch 10 / 10) train acc: 0.611000; val_acc: 0.512000\n"
     ]
    }
   ],
   "source": [
    "model = TwoLayerNet()\n",
    "solver = None\n",
    "\n",
    "##############################################################################\n",
    "# TODO: Use a Solver instance to train a TwoLayerNet that achieves at least  #\n",
    "# 50% accuracy on the validation set.                                        #\n",
    "##############################################################################\n",
    "# *****START OF YOUR CODE (DO NOT DELETE/MODIFY THIS LINE)*****\n",
    "\n",
    "solver = Solver(model, data,update_rule='sgd',optim_config={'learning_rate': 1e-3,},lr_decay=0.95,num_epochs=10, batch_size=100,print_every=100)\n",
    "solver.train()\n",
    "\n",
    "# *****END OF YOUR CODE (DO NOT DELETE/MODIFY THIS LINE)*****\n",
    "##############################################################################\n",
    "#                             END OF YOUR CODE                               #\n",
    "##############################################################################"
   ]
  },
  {
   "cell_type": "code",
   "execution_count": 11,
   "metadata": {
    "id": "-rq7yatTtcmT"
   },
   "outputs": [
    {
     "data": {
      "image/png": "[encoded data removed]",
      "text/plain": [
       "<Figure size 1080x864 with 2 Axes>"
      ]
     },
     "metadata": {
      "needs_background": "light"
     },
     "output_type": "display_data"
    }
   ],
   "source": [
    "# Run this cell to visualize training loss and train / val accuracy\n",
    "\n",
    "plt.subplot(2, 1, 1)\n",
    "plt.title('Training loss')\n",
    "plt.plot(solver.loss_history, 'o')\n",
    "plt.xlabel('Iteration')\n",
    "\n",
    "plt.subplot(2, 1, 2)\n",
    "plt.title('Accuracy')\n",
    "plt.plot(solver.train_acc_history, '-o', label='train')\n",
    "plt.plot(solver.val_acc_history, '-o', label='val')\n",
    "plt.plot([0.5] * len(solver.val_acc_history), 'k--')\n",
    "plt.xlabel('Epoch')\n",
    "plt.legend(loc='lower right')\n",
    "plt.gcf().set_size_inches(15, 12)\n",
    "plt.show()"
   ]
  },
  {
   "cell_type": "markdown",
   "metadata": {
    "id": "ZpolfDmZtcmW"
   },
   "source": [
    "# Multilayer network\n",
    "Next you will implement a fully-connected network with an arbitrary number of hidden layers.\n",
    "\n",
    "Read through the `FullyConnectedNet` class in the file `cs231n/classifiers/fc_net.py`.\n",
    "\n",
    "Implement the initialization, the forward pass, and the backward pass. For the moment don't worry about implementing dropout or batch/layer normalization; we will add those features soon."
   ]
  },
  {
   "cell_type": "markdown",
   "metadata": {
    "id": "ZpPBZSJstcmW"
   },
   "source": [
    "## Initial loss and gradient check\n",
    "\n",
    "As a sanity check, run the following to check the initial loss and to gradient check the network both with and without regularization. Do the initial losses seem reasonable?\n",
    "\n",
    "For gradient checking, you should expect to see errors around 1e-7 or less."
   ]
  },
  {
   "cell_type": "code",
   "execution_count": 12,
   "metadata": {
    "id": "iOUkmVQxtcmW"
   },
   "outputs": [
    {
     "name": "stdout",
     "output_type": "stream",
     "text": [
      "Running check with reg =  0\n",
      "Initial loss:  2.3004790897684924\n",
      "W1 relative error: 1.48e-07\n",
      "W2 relative error: 2.21e-05\n",
      "W3 relative error: 3.53e-07\n",
      "b1 relative error: 5.38e-09\n",
      "b2 relative error: 2.09e-09\n",
      "b3 relative error: 5.80e-11\n",
      "Running check with reg =  3.14\n",
      "Initial loss:  7.052114776533016\n",
      "W1 relative error: 7.36e-09\n",
      "W2 relative error: 6.87e-08\n",
      "W3 relative error: 3.48e-08\n",
      "b1 relative error: 1.48e-08\n",
      "b2 relative error: 1.72e-09\n",
      "b3 relative error: 1.80e-10\n"
     ]
    }
   ],
   "source": [
    "np.random.seed(231)\n",
    "N, D, H1, H2, C = 2, 15, 20, 30, 10\n",
    "X = np.random.randn(N, D)\n",
    "y = np.random.randint(C, size=(N,))\n",
    "\n",
    "for reg in [0, 3.14]:\n",
    "  print('Running check with reg = ', reg)\n",
    "  model = FullyConnectedNet([H1, H2], input_dim=D, num_classes=C,\n",
    "                            reg=reg, weight_scale=5e-2, dtype=np.float64)\n",
    "\n",
    "  loss, grads = model.loss(X, y)\n",
    "  print('Initial loss: ', loss)\n",
    "  \n",
    "  # Most of the errors should be on the order of e-7 or smaller.   \n",
    "  # NOTE: It is fine however to see an error for W2 on the order of e-5\n",
    "  # for the check when reg = 0.0\n",
    "  for name in sorted(grads):\n",
    "    f = lambda _: model.loss(X, y)[0]\n",
    "    grad_num = eval_numerical_gradient(f, model.params[name], verbose=False, h=1e-5)\n",
    "    print('%s relative error: %.2e' % (name, rel_error(grad_num, grads[name])))\n"
   ]
  },
  {
   "cell_type": "markdown",
   "metadata": {
    "id": "GAkDAeoStcma"
   },
   "source": [
    "As another sanity check, make sure you can overfit a small dataset of 50 images. First we will try a three-layer network with 100 units in each hidden layer. In the following cell, tweak the **learning rate** and **weight initialization scale** to overfit and achieve 100% training accuracy within 20 epochs."
   ]
  },
  {
   "cell_type": "code",
   "execution_count": 13,
   "metadata": {
    "id": "HRwtIsNutcma",
    "scrolled": false
   },
   "outputs": [
    {
     "name": "stdout",
     "output_type": "stream",
     "text": [
      "(Iteration 1 / 40) loss: 2.324703\n",
      "(Epoch 0 / 20) train acc: 0.140000; val_acc: 0.098000\n",
      "(Epoch 1 / 20) train acc: 0.240000; val_acc: 0.125000\n",
      "(Epoch 2 / 20) train acc: 0.380000; val_acc: 0.146000\n",
      "(Epoch 3 / 20) train acc: 0.380000; val_acc: 0.169000\n",
      "(Epoch 4 / 20) train acc: 0.380000; val_acc: 0.159000\n",
      "(Epoch 5 / 20) train acc: 0.480000; val_acc: 0.177000\n",
      "(Iteration 11 / 40) loss: 1.305169\n",
      "(Epoch 6 / 20) train acc: 0.480000; val_acc: 0.188000\n",
      "(Epoch 7 / 20) train acc: 0.540000; val_acc: 0.179000\n",
      "(Epoch 8 / 20) train acc: 0.620000; val_acc: 0.158000\n",
      "(Epoch 9 / 20) train acc: 0.740000; val_acc: 0.204000\n",
      "(Epoch 10 / 20) train acc: 0.800000; val_acc: 0.189000\n",
      "(Iteration 21 / 40) loss: 0.744108\n",
      "(Epoch 11 / 20) train acc: 0.900000; val_acc: 0.190000\n",
      "(Epoch 12 / 20) train acc: 0.880000; val_acc: 0.194000\n",
      "(Epoch 13 / 20) train acc: 0.860000; val_acc: 0.197000\n",
      "(Epoch 14 / 20) train acc: 1.000000; val_acc: 0.215000\n",
      "(Epoch 15 / 20) train acc: 0.820000; val_acc: 0.170000\n",
      "(Iteration 31 / 40) loss: 0.661105\n",
      "(Epoch 16 / 20) train acc: 0.920000; val_acc: 0.199000\n",
      "(Epoch 17 / 20) train acc: 0.980000; val_acc: 0.199000\n",
      "(Epoch 18 / 20) train acc: 0.960000; val_acc: 0.207000\n",
      "(Epoch 19 / 20) train acc: 1.000000; val_acc: 0.187000\n",
      "(Epoch 20 / 20) train acc: 1.000000; val_acc: 0.202000\n"
     ]
    },
    {
     "data": {
      "image/png": "[encoded data removed]",
      "text/plain": [
       "<Figure size 720x576 with 1 Axes>"
      ]
     },
     "metadata": {
      "needs_background": "light"
     },
     "output_type": "display_data"
    }
   ],
   "source": [
    "# TODO: Use a three-layer Net to overfit 50 training examples by \n",
    "# tweaking just the learning rate and initialization scale.\n",
    "\n",
    "num_train = 50\n",
    "small_data = {\n",
    "  'X_train': data['X_train'][:num_train],\n",
    "  'y_train': data['y_train'][:num_train],\n",
    "  'X_val': data['X_val'],\n",
    "  'y_val': data['y_val'],\n",
    "}\n",
    "\n",
    "weight_scale = 7.5e-3   # Experiment with this!\n",
    "learning_rate = 1e-2  # Experiment with this!\n",
    "model = FullyConnectedNet([100, 100],\n",
    "              weight_scale=weight_scale, dtype=np.float64)\n",
    "solver = Solver(model, small_data,\n",
    "                print_every=10, num_epochs=20, batch_size=25,\n",
    "                update_rule='sgd',\n",
    "                optim_config={\n",
    "                  'learning_rate': learning_rate,\n",
    "                }\n",
    "         )\n",
    "solver.train()\n",
    "\n",
    "plt.plot(solver.loss_history, 'o')\n",
    "plt.title('Training loss history')\n",
    "plt.xlabel('Iteration')\n",
    "plt.ylabel('Training loss')\n",
    "plt.show()"
   ]
  },
  {
   "cell_type": "markdown",
   "metadata": {
    "id": "Nka0FcGZtcmd"
   },
   "source": [
    "Now try to use a five-layer network with 100 units on each layer to overfit 50 training examples. Again, you will have to adjust the learning rate and weight initialization scale, but you should be able to achieve 100% training accuracy within 20 epochs."
   ]
  },
  {
   "cell_type": "code",
   "execution_count": 14,
   "metadata": {
    "id": "tkgefCQntcme"
   },
   "outputs": [
    {
     "name": "stdout",
     "output_type": "stream",
     "text": [
      "(Iteration 1 / 40) loss: 166.501707\n",
      "(Epoch 0 / 20) train acc: 0.100000; val_acc: 0.107000\n",
      "(Epoch 1 / 20) train acc: 0.320000; val_acc: 0.101000\n",
      "(Epoch 2 / 20) train acc: 0.160000; val_acc: 0.122000\n",
      "(Epoch 3 / 20) train acc: 0.380000; val_acc: 0.106000\n",
      "(Epoch 4 / 20) train acc: 0.520000; val_acc: 0.111000\n",
      "(Epoch 5 / 20) train acc: 0.760000; val_acc: 0.113000\n",
      "(Iteration 11 / 40) loss: 3.343141\n",
      "(Epoch 6 / 20) train acc: 0.840000; val_acc: 0.122000\n",
      "(Epoch 7 / 20) train acc: 0.920000; val_acc: 0.113000\n",
      "(Epoch 8 / 20) train acc: 0.940000; val_acc: 0.125000\n",
      "(Epoch 9 / 20) train acc: 0.960000; val_acc: 0.125000\n",
      "(Epoch 10 / 20) train acc: 0.980000; val_acc: 0.121000\n",
      "(Iteration 21 / 40) loss: 0.039138\n",
      "(Epoch 11 / 20) train acc: 0.980000; val_acc: 0.123000\n",
      "(Epoch 12 / 20) train acc: 1.000000; val_acc: 0.121000\n",
      "(Epoch 13 / 20) train acc: 1.000000; val_acc: 0.121000\n",
      "(Epoch 14 / 20) train acc: 1.000000; val_acc: 0.121000\n",
      "(Epoch 15 / 20) train acc: 1.000000; val_acc: 0.121000\n",
      "(Iteration 31 / 40) loss: 0.000644\n",
      "(Epoch 16 / 20) train acc: 1.000000; val_acc: 0.121000\n",
      "(Epoch 17 / 20) train acc: 1.000000; val_acc: 0.121000\n",
      "(Epoch 18 / 20) train acc: 1.000000; val_acc: 0.121000\n",
      "(Epoch 19 / 20) train acc: 1.000000; val_acc: 0.121000\n",
      "(Epoch 20 / 20) train acc: 1.000000; val_acc: 0.121000\n"
     ]
    },
    {
     "data": {
      "image/png": "[encoded data removed]",
      "text/plain": [
       "<Figure size 720x576 with 1 Axes>"
      ]
     },
     "metadata": {
      "needs_background": "light"
     },
     "output_type": "display_data"
    }
   ],
   "source": [
    "# TODO: Use a five-layer Net to overfit 50 training examples by \n",
    "# tweaking just the learning rate and initialization scale.\n",
    "\n",
    "num_train = 50\n",
    "small_data = {\n",
    "  'X_train': data['X_train'][:num_train],\n",
    "  'y_train': data['y_train'][:num_train],\n",
    "  'X_val': data['X_val'],\n",
    "  'y_val': data['y_val'],\n",
    "}\n",
    "\n",
    "learning_rate = 2e-3  # Experiment with this!\n",
    "weight_scale = 1e-1   # Experiment with this!\n",
    "model = FullyConnectedNet([100, 100, 100, 100],\n",
    "                weight_scale=weight_scale, dtype=np.float64)\n",
    "solver = Solver(model, small_data,\n",
    "                print_every=10, num_epochs=20, batch_size=25,\n",
    "                update_rule='sgd',\n",
    "                optim_config={\n",
    "                  'learning_rate': learning_rate,\n",
    "                }\n",
    "         )\n",
    "solver.train()\n",
    "\n",
    "plt.plot(solver.loss_history, 'o')\n",
    "plt.title('Training loss history')\n",
    "plt.xlabel('Iteration')\n",
    "plt.ylabel('Training loss')\n",
    "plt.show()"
   ]
  },
  {
   "cell_type": "markdown",
   "metadata": {
    "id": "FyHMx3Uytcmg",
    "tags": [
     "pdf-inline"
    ]
   },
   "source": [
    "## Inline Question 3: \n",
    "Did you notice anything about the comparative difficulty of training the three-layer net vs training the five layer net? In particular, based on your experience, which network seemed more sensitive to the initialization scale? Why do you think that is the case?\n",
    "\n",
    "## Answer:\n",
    "\n",
    "Es más fácil sobreajustar a ejemplos de entrenamiento la red con más parámetros, lo que ocasionará peor performance en un conjunto de datos no vistos. Se puede observar este comportamiento en los resultados anteriores, con el dataset de validación. \n",
    "\n",
    "La red de 3 capas es más sensible a la inicialización, dado que son menos parámetros a ajustar y aprender. \n"
   ]
  },
  {
   "cell_type": "markdown",
   "metadata": {
    "id": "J-vIt4z3tcmg"
   },
   "source": [
    "# Update rules\n",
    "So far we have used vanilla stochastic gradient descent (SGD) as our update rule. More sophisticated update rules can make it easier to train deep networks. We will implement a few of the most commonly used update rules and compare them to vanilla SGD."
   ]
  },
  {
   "cell_type": "markdown",
   "metadata": {
    "id": "-geMW86jtcmh"
   },
   "source": [
    "# SGD+Momentum\n",
    "Stochastic gradient descent with momentum is a widely used update rule that tends to make deep networks converge faster than vanilla stochastic gradient descent. See the Momentum Update section at http://cs231n.github.io/neural-networks-3/#sgd for more information.\n",
    "\n",
    "Open the file `cs231n/optim.py` and read the documentation at the top of the file to make sure you understand the API. Implement the SGD+momentum update rule in the function `sgd_momentum` and run the following to check your implementation. You should see errors less than e-8."
   ]
  },
  {
   "cell_type": "code",
   "execution_count": 15,
   "metadata": {
    "id": "inplasWYtcmh"
   },
   "outputs": [
    {
     "name": "stdout",
     "output_type": "stream",
     "text": [
      "next_w error:  8.882347033505819e-09\n",
      "velocity error:  4.269287743278663e-09\n"
     ]
    }
   ],
   "source": [
    "from cs231n.optim import sgd_momentum\n",
    "\n",
    "N, D = 4, 5\n",
    "w = np.linspace(-0.4, 0.6, num=N*D).reshape(N, D)\n",
    "dw = np.linspace(-0.6, 0.4, num=N*D).reshape(N, D)\n",
    "v = np.linspace(0.6, 0.9, num=N*D).reshape(N, D)\n",
    "\n",
    "config = {'learning_rate': 1e-3, 'velocity': v}\n",
    "next_w, _ = sgd_momentum(w, dw, config=config)\n",
    "\n",
    "expected_next_w = np.asarray([\n",
    "  [ 0.1406,      0.20738947,  0.27417895,  0.34096842,  0.40775789],\n",
    "  [ 0.47454737,  0.54133684,  0.60812632,  0.67491579,  0.74170526],\n",
    "  [ 0.80849474,  0.87528421,  0.94207368,  1.00886316,  1.07565263],\n",
    "  [ 1.14244211,  1.20923158,  1.27602105,  1.34281053,  1.4096    ]])\n",
    "expected_velocity = np.asarray([\n",
    "  [ 0.5406,      0.55475789,  0.56891579, 0.58307368,  0.59723158],\n",
    "  [ 0.61138947,  0.62554737,  0.63970526,  0.65386316,  0.66802105],\n",
    "  [ 0.68217895,  0.69633684,  0.71049474,  0.72465263,  0.73881053],\n",
    "  [ 0.75296842,  0.76712632,  0.78128421,  0.79544211,  0.8096    ]])\n",
    "\n",
    "# Should see relative errors around e-8 or less\n",
    "print('next_w error: ', rel_error(next_w, expected_next_w))\n",
    "print('velocity error: ', rel_error(expected_velocity, config['velocity']))"
   ]
  },
  {
   "cell_type": "markdown",
   "metadata": {
    "id": "6owvztuMtcmj"
   },
   "source": [
    "Once you have done so, run the following to train a six-layer network with both SGD and SGD+momentum. You should see the SGD+momentum update rule converge faster."
   ]
  },
  {
   "cell_type": "code",
   "execution_count": 16,
   "metadata": {
    "id": "jq7mycDVtcmk",
    "scrolled": false
   },
   "outputs": [
    {
     "name": "stdout",
     "output_type": "stream",
     "text": [
      "running with  sgd\n",
      "(Iteration 1 / 200) loss: 2.559978\n",
      "(Epoch 0 / 5) train acc: 0.104000; val_acc: 0.107000\n",
      "(Iteration 11 / 200) loss: 2.356069\n",
      "(Iteration 21 / 200) loss: 2.214091\n",
      "(Iteration 31 / 200) loss: 2.205927\n",
      "(Epoch 1 / 5) train acc: 0.225000; val_acc: 0.193000\n",
      "(Iteration 41 / 200) loss: 2.132095\n",
      "(Iteration 51 / 200) loss: 2.118950\n",
      "(Iteration 61 / 200) loss: 2.116443\n",
      "(Iteration 71 / 200) loss: 2.132549\n",
      "(Epoch 2 / 5) train acc: 0.298000; val_acc: 0.260000\n",
      "(Iteration 81 / 200) loss: 1.977227\n",
      "(Iteration 91 / 200) loss: 2.007528\n",
      "(Iteration 101 / 200) loss: 2.004762\n",
      "(Iteration 111 / 200) loss: 1.885342\n",
      "(Epoch 3 / 5) train acc: 0.343000; val_acc: 0.287000\n",
      "(Iteration 121 / 200) loss: 1.891517\n",
      "(Iteration 131 / 200) loss: 1.923677\n",
      "(Iteration 141 / 200) loss: 1.957744\n",
      "(Iteration 151 / 200) loss: 1.966736\n",
      "(Epoch 4 / 5) train acc: 0.322000; val_acc: 0.305000\n",
      "(Iteration 161 / 200) loss: 1.801483\n",
      "(Iteration 171 / 200) loss: 1.973780\n",
      "(Iteration 181 / 200) loss: 1.666572\n",
      "(Iteration 191 / 200) loss: 1.909494\n",
      "(Epoch 5 / 5) train acc: 0.372000; val_acc: 0.319000\n",
      "\n",
      "running with  sgd_momentum\n",
      "(Iteration 1 / 200) loss: 3.153777\n",
      "(Epoch 0 / 5) train acc: 0.099000; val_acc: 0.088000\n",
      "(Iteration 11 / 200) loss: 2.227203\n",
      "(Iteration 21 / 200) loss: 2.125706\n",
      "(Iteration 31 / 200) loss: 1.932679\n",
      "(Epoch 1 / 5) train acc: 0.308000; val_acc: 0.258000\n",
      "(Iteration 41 / 200) loss: 1.946330\n",
      "(Iteration 51 / 200) loss: 1.780464\n",
      "(Iteration 61 / 200) loss: 1.753502\n",
      "(Iteration 71 / 200) loss: 1.844626\n",
      "(Epoch 2 / 5) train acc: 0.377000; val_acc: 0.331000\n",
      "(Iteration 81 / 200) loss: 2.028390\n",
      "(Iteration 91 / 200) loss: 1.685415\n",
      "(Iteration 101 / 200) loss: 1.513204\n",
      "(Iteration 111 / 200) loss: 1.431671\n",
      "(Epoch 3 / 5) train acc: 0.469000; val_acc: 0.335000\n",
      "(Iteration 121 / 200) loss: 1.678510\n",
      "(Iteration 131 / 200) loss: 1.545366\n",
      "(Iteration 141 / 200) loss: 1.617381\n",
      "(Iteration 151 / 200) loss: 1.693830\n",
      "(Epoch 4 / 5) train acc: 0.476000; val_acc: 0.347000\n",
      "(Iteration 161 / 200) loss: 1.466674\n",
      "(Iteration 171 / 200) loss: 1.425210\n",
      "(Iteration 181 / 200) loss: 1.377764\n",
      "(Iteration 191 / 200) loss: 1.363371\n",
      "(Epoch 5 / 5) train acc: 0.508000; val_acc: 0.362000\n",
      "\n"
     ]
    },
    {
     "name": "stderr",
     "output_type": "stream",
     "text": [
      "<ipython-input-16-a73acf083950>:39: MatplotlibDeprecationWarning: Adding an axes using the same arguments as a previous axes currently reuses the earlier instance.  In a future version, a new instance will always be created and returned.  Meanwhile, this warning can be suppressed, and the future behavior ensured, by passing a unique label to each axes instance.\n",
      "  plt.subplot(3, 1, 1)\n",
      "<ipython-input-16-a73acf083950>:42: MatplotlibDeprecationWarning: Adding an axes using the same arguments as a previous axes currently reuses the earlier instance.  In a future version, a new instance will always be created and returned.  Meanwhile, this warning can be suppressed, and the future behavior ensured, by passing a unique label to each axes instance.\n",
      "  plt.subplot(3, 1, 2)\n",
      "<ipython-input-16-a73acf083950>:45: MatplotlibDeprecationWarning: Adding an axes using the same arguments as a previous axes currently reuses the earlier instance.  In a future version, a new instance will always be created and returned.  Meanwhile, this warning can be suppressed, and the future behavior ensured, by passing a unique label to each axes instance.\n",
      "  plt.subplot(3, 1, 3)\n",
      "<ipython-input-16-a73acf083950>:49: MatplotlibDeprecationWarning: Adding an axes using the same arguments as a previous axes currently reuses the earlier instance.  In a future version, a new instance will always be created and returned.  Meanwhile, this warning can be suppressed, and the future behavior ensured, by passing a unique label to each axes instance.\n",
      "  plt.subplot(3, 1, i)\n"
     ]
    },
    {
     "data": {
      "image/png": "[encoded data removed]",
      "text/plain": [
       "<Figure size 1080x1080 with 3 Axes>"
      ]
     },
     "metadata": {
      "needs_background": "light"
     },
     "output_type": "display_data"
    }
   ],
   "source": [
    "num_train = 4000\n",
    "small_data = {\n",
    "  'X_train': data['X_train'][:num_train],\n",
    "  'y_train': data['y_train'][:num_train],\n",
    "  'X_val': data['X_val'],\n",
    "  'y_val': data['y_val'],\n",
    "}\n",
    "\n",
    "solvers = {}\n",
    "\n",
    "for update_rule in ['sgd', 'sgd_momentum']:\n",
    "  print('running with ', update_rule)\n",
    "  model = FullyConnectedNet([100, 100, 100, 100, 100], weight_scale=5e-2)\n",
    "\n",
    "  solver = Solver(model, small_data,\n",
    "                  num_epochs=5, batch_size=100,\n",
    "                  update_rule=update_rule,\n",
    "                  optim_config={\n",
    "                    'learning_rate': 5e-3,\n",
    "                  },\n",
    "                  verbose=True)\n",
    "  solvers[update_rule] = solver\n",
    "  solver.train()\n",
    "  print()\n",
    "\n",
    "plt.subplot(3, 1, 1)\n",
    "plt.title('Training loss')\n",
    "plt.xlabel('Iteration')\n",
    "\n",
    "plt.subplot(3, 1, 2)\n",
    "plt.title('Training accuracy')\n",
    "plt.xlabel('Epoch')\n",
    "\n",
    "plt.subplot(3, 1, 3)\n",
    "plt.title('Validation accuracy')\n",
    "plt.xlabel('Epoch')\n",
    "\n",
    "for update_rule, solver in solvers.items():\n",
    "  plt.subplot(3, 1, 1)\n",
    "  plt.plot(solver.loss_history, 'o', label=\"loss_%s\" % update_rule)\n",
    "  \n",
    "  plt.subplot(3, 1, 2)\n",
    "  plt.plot(solver.train_acc_history, '-o', label=\"train_acc_%s\" % update_rule)\n",
    "\n",
    "  plt.subplot(3, 1, 3)\n",
    "  plt.plot(solver.val_acc_history, '-o', label=\"val_acc_%s\" % update_rule)\n",
    "  \n",
    "for i in [1, 2, 3]:\n",
    "  plt.subplot(3, 1, i)\n",
    "  plt.legend(loc='upper center', ncol=4)\n",
    "plt.gcf().set_size_inches(15, 15)\n",
    "plt.show()"
   ]
  },
  {
   "cell_type": "markdown",
   "metadata": {
    "id": "-VIDJ98rtcmm"
   },
   "source": [
    "# RMSProp and Adam\n",
    "RMSProp [1] and Adam [2] are update rules that set per-parameter learning rates by using a running average of the second moments of gradients.\n",
    "\n",
    "In the file `cs231n/optim.py`, implement the RMSProp update rule in the `rmsprop` function and implement the Adam update rule in the `adam` function, and check your implementations using the tests below.\n",
    "\n",
    "**NOTE:** Please implement the _complete_ Adam update rule (with the bias correction mechanism), not the first simplified version mentioned in the course notes. \n",
    "\n",
    "[1] Tijmen Tieleman and Geoffrey Hinton. \"Lecture 6.5-rmsprop: Divide the gradient by a running average of its recent magnitude.\" COURSERA: Neural Networks for Machine Learning 4 (2012).\n",
    "\n",
    "[2] Diederik Kingma and Jimmy Ba, \"Adam: A Method for Stochastic Optimization\", ICLR 2015."
   ]
  },
  {
   "cell_type": "code",
   "execution_count": 17,
   "metadata": {
    "id": "L4M1WzoCtcmn"
   },
   "outputs": [
    {
     "name": "stdout",
     "output_type": "stream",
     "text": [
      "next_w error:  9.524687511038133e-08\n",
      "cache error:  2.6477955807156126e-09\n"
     ]
    }
   ],
   "source": [
    "# Test RMSProp implementation\n",
    "from cs231n.optim import rmsprop\n",
    "\n",
    "N, D = 4, 5\n",
    "w = np.linspace(-0.4, 0.6, num=N*D).reshape(N, D)\n",
    "dw = np.linspace(-0.6, 0.4, num=N*D).reshape(N, D)\n",
    "cache = np.linspace(0.6, 0.9, num=N*D).reshape(N, D)\n",
    "\n",
    "config = {'learning_rate': 1e-2, 'cache': cache}\n",
    "next_w, _ = rmsprop(w, dw, config=config)\n",
    "\n",
    "expected_next_w = np.asarray([\n",
    "  [-0.39223849, -0.34037513, -0.28849239, -0.23659121, -0.18467247],\n",
    "  [-0.132737,   -0.08078555, -0.02881884,  0.02316247,  0.07515774],\n",
    "  [ 0.12716641,  0.17918792,  0.23122175,  0.28326742,  0.33532447],\n",
    "  [ 0.38739248,  0.43947102,  0.49155973,  0.54365823,  0.59576619]])\n",
    "expected_cache = np.asarray([\n",
    "  [ 0.5976,      0.6126277,   0.6277108,   0.64284931,  0.65804321],\n",
    "  [ 0.67329252,  0.68859723,  0.70395734,  0.71937285,  0.73484377],\n",
    "  [ 0.75037008,  0.7659518,   0.78158892,  0.79728144,  0.81302936],\n",
    "  [ 0.82883269,  0.84469141,  0.86060554,  0.87657507,  0.8926    ]])\n",
    "\n",
    "# You should see relative errors around e-7 or less\n",
    "print('next_w error: ', rel_error(expected_next_w, next_w))\n",
    "print('cache error: ', rel_error(expected_cache, config['cache']))"
   ]
  },
  {
   "cell_type": "code",
   "execution_count": 18,
   "metadata": {
    "id": "EDjXccrWtcmp"
   },
   "outputs": [
    {
     "name": "stdout",
     "output_type": "stream",
     "text": [
      "next_w error:  1.1395691798535431e-07\n",
      "v error:  4.208314038113071e-09\n",
      "m error:  4.214963193114416e-09\n"
     ]
    }
   ],
   "source": [
    "# Test Adam implementation\n",
    "from cs231n.optim import adam\n",
    "\n",
    "N, D = 4, 5\n",
    "w = np.linspace(-0.4, 0.6, num=N*D).reshape(N, D)\n",
    "dw = np.linspace(-0.6, 0.4, num=N*D).reshape(N, D)\n",
    "m = np.linspace(0.6, 0.9, num=N*D).reshape(N, D)\n",
    "v = np.linspace(0.7, 0.5, num=N*D).reshape(N, D)\n",
    "\n",
    "config = {'learning_rate': 1e-2, 'm': m, 'v': v, 't': 5}\n",
    "next_w, _ = adam(w, dw, config=config)\n",
    "\n",
    "expected_next_w = np.asarray([\n",
    "  [-0.40094747, -0.34836187, -0.29577703, -0.24319299, -0.19060977],\n",
    "  [-0.1380274,  -0.08544591, -0.03286534,  0.01971428,  0.0722929],\n",
    "  [ 0.1248705,   0.17744702,  0.23002243,  0.28259667,  0.33516969],\n",
    "  [ 0.38774145,  0.44031188,  0.49288093,  0.54544852,  0.59801459]])\n",
    "expected_v = np.asarray([\n",
    "  [ 0.69966,     0.68908382,  0.67851319,  0.66794809,  0.65738853,],\n",
    "  [ 0.64683452,  0.63628604,  0.6257431,   0.61520571,  0.60467385,],\n",
    "  [ 0.59414753,  0.58362676,  0.57311152,  0.56260183,  0.55209767,],\n",
    "  [ 0.54159906,  0.53110598,  0.52061845,  0.51013645,  0.49966,   ]])\n",
    "expected_m = np.asarray([\n",
    "  [ 0.48,        0.49947368,  0.51894737,  0.53842105,  0.55789474],\n",
    "  [ 0.57736842,  0.59684211,  0.61631579,  0.63578947,  0.65526316],\n",
    "  [ 0.67473684,  0.69421053,  0.71368421,  0.73315789,  0.75263158],\n",
    "  [ 0.77210526,  0.79157895,  0.81105263,  0.83052632,  0.85      ]])\n",
    "\n",
    "# You should see relative errors around e-7 or less\n",
    "print('next_w error: ', rel_error(expected_next_w, next_w))\n",
    "print('v error: ', rel_error(expected_v, config['v']))\n",
    "print('m error: ', rel_error(expected_m, config['m']))"
   ]
  },
  {
   "cell_type": "markdown",
   "metadata": {
    "id": "jCitBEUgtcmq"
   },
   "source": [
    "Once you have debugged your RMSProp and Adam implementations, run the following to train a pair of deep networks using these new update rules:"
   ]
  },
  {
   "cell_type": "code",
   "execution_count": 19,
   "metadata": {
    "id": "LKlP2Vhhtcmr"
   },
   "outputs": [
    {
     "name": "stdout",
     "output_type": "stream",
     "text": [
      "running with  adam\n",
      "(Iteration 1 / 200) loss: 3.476928\n",
      "(Epoch 0 / 5) train acc: 0.126000; val_acc: 0.110000\n",
      "(Iteration 11 / 200) loss: 2.027712\n",
      "(Iteration 21 / 200) loss: 2.183358\n",
      "(Iteration 31 / 200) loss: 1.744257\n",
      "(Epoch 1 / 5) train acc: 0.363000; val_acc: 0.330000\n",
      "(Iteration 41 / 200) loss: 1.707951\n",
      "(Iteration 51 / 200) loss: 1.703834\n",
      "(Iteration 61 / 200) loss: 2.094758\n",
      "(Iteration 71 / 200) loss: 1.505614\n",
      "(Epoch 2 / 5) train acc: 0.419000; val_acc: 0.366000\n",
      "(Iteration 81 / 200) loss: 1.593840\n",
      "(Iteration 91 / 200) loss: 1.492122\n",
      "(Iteration 101 / 200) loss: 1.393159\n",
      "(Iteration 111 / 200) loss: 1.441610\n",
      "(Epoch 3 / 5) train acc: 0.496000; val_acc: 0.376000\n",
      "(Iteration 121 / 200) loss: 1.196205\n",
      "(Iteration 131 / 200) loss: 1.500585\n",
      "(Iteration 141 / 200) loss: 1.336431\n",
      "(Iteration 151 / 200) loss: 1.343462\n",
      "(Epoch 4 / 5) train acc: 0.556000; val_acc: 0.373000\n",
      "(Iteration 161 / 200) loss: 1.366904\n",
      "(Iteration 171 / 200) loss: 1.335568\n",
      "(Iteration 181 / 200) loss: 1.130025\n",
      "(Iteration 191 / 200) loss: 1.187725\n",
      "(Epoch 5 / 5) train acc: 0.594000; val_acc: 0.373000\n",
      "\n",
      "running with  rmsprop\n",
      "(Iteration 1 / 200) loss: 2.589166\n",
      "(Epoch 0 / 5) train acc: 0.119000; val_acc: 0.146000\n",
      "(Iteration 11 / 200) loss: 2.032921\n",
      "(Iteration 21 / 200) loss: 1.897277\n",
      "(Iteration 31 / 200) loss: 1.770793\n",
      "(Epoch 1 / 5) train acc: 0.381000; val_acc: 0.320000\n",
      "(Iteration 41 / 200) loss: 1.895731\n",
      "(Iteration 51 / 200) loss: 1.681091\n",
      "(Iteration 61 / 200) loss: 1.487204\n",
      "(Iteration 71 / 200) loss: 1.629973\n",
      "(Epoch 2 / 5) train acc: 0.429000; val_acc: 0.350000\n",
      "(Iteration 81 / 200) loss: 1.506686\n",
      "(Iteration 91 / 200) loss: 1.610742\n",
      "(Iteration 101 / 200) loss: 1.486124\n",
      "(Iteration 111 / 200) loss: 1.559454\n",
      "(Epoch 3 / 5) train acc: 0.492000; val_acc: 0.359000\n",
      "(Iteration 121 / 200) loss: 1.496860\n",
      "(Iteration 131 / 200) loss: 1.531552\n",
      "(Iteration 141 / 200) loss: 1.550195\n",
      "(Iteration 151 / 200) loss: 1.657838\n",
      "(Epoch 4 / 5) train acc: 0.533000; val_acc: 0.354000\n",
      "(Iteration 161 / 200) loss: 1.603105\n",
      "(Iteration 171 / 200) loss: 1.405372\n",
      "(Iteration 181 / 200) loss: 1.503740\n",
      "(Iteration 191 / 200) loss: 1.385278\n",
      "(Epoch 5 / 5) train acc: 0.531000; val_acc: 0.374000\n",
      "\n"
     ]
    },
    {
     "name": "stderr",
     "output_type": "stream",
     "text": [
      "<ipython-input-19-c31f2247ce3b>:30: MatplotlibDeprecationWarning: Adding an axes using the same arguments as a previous axes currently reuses the earlier instance.  In a future version, a new instance will always be created and returned.  Meanwhile, this warning can be suppressed, and the future behavior ensured, by passing a unique label to each axes instance.\n",
      "  plt.subplot(3, 1, 1)\n",
      "<ipython-input-19-c31f2247ce3b>:33: MatplotlibDeprecationWarning: Adding an axes using the same arguments as a previous axes currently reuses the earlier instance.  In a future version, a new instance will always be created and returned.  Meanwhile, this warning can be suppressed, and the future behavior ensured, by passing a unique label to each axes instance.\n",
      "  plt.subplot(3, 1, 2)\n",
      "<ipython-input-19-c31f2247ce3b>:36: MatplotlibDeprecationWarning: Adding an axes using the same arguments as a previous axes currently reuses the earlier instance.  In a future version, a new instance will always be created and returned.  Meanwhile, this warning can be suppressed, and the future behavior ensured, by passing a unique label to each axes instance.\n",
      "  plt.subplot(3, 1, 3)\n",
      "<ipython-input-19-c31f2247ce3b>:40: MatplotlibDeprecationWarning: Adding an axes using the same arguments as a previous axes currently reuses the earlier instance.  In a future version, a new instance will always be created and returned.  Meanwhile, this warning can be suppressed, and the future behavior ensured, by passing a unique label to each axes instance.\n",
      "  plt.subplot(3, 1, i)\n"
     ]
    },
    {
     "data": {
      "image/png": "[encoded data removed]",
      "text/plain": [
       "<Figure size 1080x1080 with 3 Axes>"
      ]
     },
     "metadata": {
      "needs_background": "light"
     },
     "output_type": "display_data"
    }
   ],
   "source": [
    "learning_rates = {'rmsprop': 1e-4, 'adam': 1e-3}\n",
    "for update_rule in ['adam', 'rmsprop']:\n",
    "  print('running with ', update_rule)\n",
    "  model = FullyConnectedNet([100, 100, 100, 100, 100], weight_scale=5e-2)\n",
    "\n",
    "  solver = Solver(model, small_data,\n",
    "                  num_epochs=5, batch_size=100,\n",
    "                  update_rule=update_rule,\n",
    "                  optim_config={\n",
    "                    'learning_rate': learning_rates[update_rule]\n",
    "                  },\n",
    "                  verbose=True)\n",
    "  solvers[update_rule] = solver\n",
    "  solver.train()\n",
    "  print()\n",
    "\n",
    "plt.subplot(3, 1, 1)\n",
    "plt.title('Training loss')\n",
    "plt.xlabel('Iteration')\n",
    "\n",
    "plt.subplot(3, 1, 2)\n",
    "plt.title('Training accuracy')\n",
    "plt.xlabel('Epoch')\n",
    "\n",
    "plt.subplot(3, 1, 3)\n",
    "plt.title('Validation accuracy')\n",
    "plt.xlabel('Epoch')\n",
    "\n",
    "for update_rule, solver in list(solvers.items()):\n",
    "  plt.subplot(3, 1, 1)\n",
    "  plt.plot(solver.loss_history, 'o', label=update_rule)\n",
    "  \n",
    "  plt.subplot(3, 1, 2)\n",
    "  plt.plot(solver.train_acc_history, '-o', label=update_rule)\n",
    "\n",
    "  plt.subplot(3, 1, 3)\n",
    "  plt.plot(solver.val_acc_history, '-o', label=update_rule)\n",
    "  \n",
    "for i in [1, 2, 3]:\n",
    "  plt.subplot(3, 1, i)\n",
    "  plt.legend(loc='upper center', ncol=4)\n",
    "plt.gcf().set_size_inches(15, 15)\n",
    "plt.show()"
   ]
  },
  {
   "cell_type": "markdown",
   "metadata": {
    "id": "W4p3Lpz4tcmt",
    "tags": [
     "pdf-inline"
    ]
   },
   "source": [
    "## Inline Question 4:\n",
    "\n",
    "AdaGrad, like RMSprop and Adam, is a per-parameter optimization method that uses the following update rule:\n",
    "\n",
    "```\n",
    "cache += dw**2\n",
    "w += - learning_rate * dw / (np.sqrt(cache) + eps)\n",
    "```\n",
    "\n",
    "John notices that when he was training a network with AdaGrad that the updates became very small, and that his network was learning slowly. Using your knowledge of the AdaGrad update rule, why do you think the updates would become very small? Would RMSprop have the same issue? What about Adam? Justify.\n",
    "\n",
    "\n",
    "## Answer: \n",
    "\n",
    "Los tres métodos son parte de la familia de métodos de optimización con Learning Rate adaptativo. \n",
    "\n",
    "En el caso de AdaGrad, el learning rate luego de muchas iteraciones se vuelve muy pequeño, por lo que el aprendizaje se enlentece. La forma de actualizar el learning rate, dividiendo siempre por la suma de los cuadrados de los gradientes calculados hasta ese momento, hace que siempre disminuya, volviendolo muy pequeño. \n",
    "\n",
    "RMSProp actualiza el learning rate ponderando el cálculo del cuadrado del gradiente del paso anterior con el cuadrado del gradiente en dicho paso (ponderación realizada con el parámetro decay rate). De esta manera, el learning rate no tiene porque disminuir hasta volverse muy pequeño. \n",
    "\n",
    "Adam tampoco tiene el problema de AdaGrad, ya que la división del learning rate en cada paso se realiza con la misma idea que RMSProp. Además, para mantener una inercia en el movimiento del que iba teniendo, se multiplica por el \"primer momento\" (ponderacion del gradiente con el gradiente anterior), en vez que por el gradiente en dicho punto. Esto último es independiente del learning rate, pero es la diferencia sustancial con RMSProp. \n",
    "\n",
    "\n",
    "\n"
   ]
  },
  {
   "cell_type": "markdown",
   "metadata": {
    "id": "DOqIxvpLtcmt"
   },
   "source": [
    "# Train a good model!\n",
    "Train the best fully-connected model that you can on CIFAR-10, storing your best model in the `best_model` variable. We require you to get at least 50% accuracy on the validation set using a fully-connected net.\n",
    "\n",
    "If you are careful it should be possible to get accuracies above 55%, but we don't require it for this part and won't assign extra credit for doing so. Later in the assignment we will ask you to train the best convolutional network that you can on CIFAR-10, and we would prefer that you spend your effort working on convolutional nets rather than fully-connected nets.\n",
    "\n",
    "You might find it useful to complete the `BatchNormalization.ipynb` and `Dropout.ipynb` notebooks before completing this part, since those techniques can help you train powerful models."
   ]
  },
  {
   "cell_type": "code",
   "execution_count": 23,
   "metadata": {
    "id": "Bz1fjTUBtcmu",
    "scrolled": false
   },
   "outputs": [
    {
     "name": "stdout",
     "output_type": "stream",
     "text": [
      "(Iteration 1 / 2450) loss: 2.267681\n",
      "(Epoch 0 / 5) train acc: 0.099000; val_acc: 0.115000\n",
      "(Iteration 11 / 2450) loss: 2.300138\n",
      "(Iteration 21 / 2450) loss: 2.321648\n",
      "(Iteration 31 / 2450) loss: 2.259934\n",
      "(Iteration 41 / 2450) loss: 2.242060\n",
      "(Iteration 51 / 2450) loss: 2.242353\n",
      "(Iteration 61 / 2450) loss: 2.197359\n",
      "(Iteration 71 / 2450) loss: 2.209563\n",
      "(Iteration 81 / 2450) loss: 2.010295\n",
      "(Iteration 91 / 2450) loss: 2.197425\n",
      "(Iteration 101 / 2450) loss: 1.981836\n",
      "(Iteration 111 / 2450) loss: 2.108379\n",
      "(Iteration 121 / 2450) loss: 2.010417\n",
      "(Iteration 131 / 2450) loss: 2.083258\n",
      "(Iteration 141 / 2450) loss: 2.208658\n",
      "(Iteration 151 / 2450) loss: 2.059224\n",
      "(Iteration 161 / 2450) loss: 1.992993\n",
      "(Iteration 171 / 2450) loss: 2.109613\n",
      "(Iteration 181 / 2450) loss: 2.009898\n",
      "(Iteration 191 / 2450) loss: 2.069989\n",
      "(Iteration 201 / 2450) loss: 2.143241\n",
      "(Iteration 211 / 2450) loss: 2.046433\n",
      "(Iteration 221 / 2450) loss: 1.868004\n",
      "(Iteration 231 / 2450) loss: 1.958076\n",
      "(Iteration 241 / 2450) loss: 2.049822\n",
      "(Iteration 251 / 2450) loss: 1.927111\n",
      "(Iteration 261 / 2450) loss: 1.904266\n",
      "(Iteration 271 / 2450) loss: 2.141049\n",
      "(Iteration 281 / 2450) loss: 1.886779\n",
      "(Iteration 291 / 2450) loss: 2.085457\n",
      "(Iteration 301 / 2450) loss: 1.888010\n",
      "(Iteration 311 / 2450) loss: 1.925098\n",
      "(Iteration 321 / 2450) loss: 1.876229\n",
      "(Iteration 331 / 2450) loss: 1.877353\n",
      "(Iteration 341 / 2450) loss: 1.986933\n",
      "(Iteration 351 / 2450) loss: 2.127018\n",
      "(Iteration 361 / 2450) loss: 1.911489\n",
      "(Iteration 371 / 2450) loss: 1.913146\n",
      "(Iteration 381 / 2450) loss: 2.003284\n",
      "(Iteration 391 / 2450) loss: 1.981713\n",
      "(Iteration 401 / 2450) loss: 2.098961\n",
      "(Iteration 411 / 2450) loss: 2.018379\n",
      "(Iteration 421 / 2450) loss: 1.945340\n",
      "(Iteration 431 / 2450) loss: 1.936231\n",
      "(Iteration 441 / 2450) loss: 1.994619\n",
      "(Iteration 451 / 2450) loss: 1.883160\n",
      "(Iteration 461 / 2450) loss: 1.983976\n",
      "(Iteration 471 / 2450) loss: 2.006366\n",
      "(Iteration 481 / 2450) loss: 2.075239\n",
      "(Epoch 1 / 5) train acc: 0.307000; val_acc: 0.329000\n",
      "(Iteration 491 / 2450) loss: 1.871037\n",
      "(Iteration 501 / 2450) loss: 1.788184\n",
      "(Iteration 511 / 2450) loss: 1.929516\n",
      "(Iteration 521 / 2450) loss: 2.013125\n",
      "(Iteration 531 / 2450) loss: 1.946705\n",
      "(Iteration 541 / 2450) loss: 2.021497\n",
      "(Iteration 551 / 2450) loss: 2.084534\n",
      "(Iteration 561 / 2450) loss: 1.764839\n",
      "(Iteration 571 / 2450) loss: 1.877782\n",
      "(Iteration 581 / 2450) loss: 1.893676\n",
      "(Iteration 591 / 2450) loss: 1.881500\n",
      "(Iteration 601 / 2450) loss: 1.982966\n",
      "(Iteration 611 / 2450) loss: 1.837882\n",
      "(Iteration 621 / 2450) loss: 1.840168\n",
      "(Iteration 631 / 2450) loss: 1.961790\n",
      "(Iteration 641 / 2450) loss: 1.867868\n",
      "(Iteration 651 / 2450) loss: 1.897548\n",
      "(Iteration 661 / 2450) loss: 1.897872\n",
      "(Iteration 671 / 2450) loss: 2.174696\n",
      "(Iteration 681 / 2450) loss: 2.002532\n",
      "(Iteration 691 / 2450) loss: 1.947519\n",
      "(Iteration 701 / 2450) loss: 1.731061\n",
      "(Iteration 711 / 2450) loss: 1.931713\n",
      "(Iteration 721 / 2450) loss: 1.774519\n",
      "(Iteration 731 / 2450) loss: 1.878108\n",
      "(Iteration 741 / 2450) loss: 1.817742\n",
      "(Iteration 751 / 2450) loss: 1.933674\n",
      "(Iteration 761 / 2450) loss: 1.786246\n",
      "(Iteration 771 / 2450) loss: 1.894575\n",
      "(Iteration 781 / 2450) loss: 1.881932\n",
      "(Iteration 791 / 2450) loss: 1.874568\n",
      "(Iteration 801 / 2450) loss: 1.876252\n",
      "(Iteration 811 / 2450) loss: 1.871839\n",
      "(Iteration 821 / 2450) loss: 1.820029\n",
      "(Iteration 831 / 2450) loss: 1.914848\n",
      "(Iteration 841 / 2450) loss: 1.877307\n",
      "(Iteration 851 / 2450) loss: 1.892637\n",
      "(Iteration 861 / 2450) loss: 1.981469\n",
      "(Iteration 871 / 2450) loss: 1.769118\n",
      "(Iteration 881 / 2450) loss: 1.780921\n",
      "(Iteration 891 / 2450) loss: 1.867317\n",
      "(Iteration 901 / 2450) loss: 1.778289\n",
      "(Iteration 911 / 2450) loss: 2.043600\n",
      "(Iteration 921 / 2450) loss: 1.998614\n",
      "(Iteration 931 / 2450) loss: 1.974940\n",
      "(Iteration 941 / 2450) loss: 1.980312\n",
      "(Iteration 951 / 2450) loss: 1.820140\n",
      "(Iteration 961 / 2450) loss: 1.976247\n",
      "(Iteration 971 / 2450) loss: 2.011847\n",
      "(Epoch 2 / 5) train acc: 0.375000; val_acc: 0.362000\n",
      "(Iteration 981 / 2450) loss: 1.934528\n",
      "(Iteration 991 / 2450) loss: 1.941811\n",
      "(Iteration 1001 / 2450) loss: 1.883698\n",
      "(Iteration 1011 / 2450) loss: 1.758031\n",
      "(Iteration 1021 / 2450) loss: 1.919450\n",
      "(Iteration 1031 / 2450) loss: 1.824338\n",
      "(Iteration 1041 / 2450) loss: 1.919201\n",
      "(Iteration 1051 / 2450) loss: 1.785010\n",
      "(Iteration 1061 / 2450) loss: 1.863965\n",
      "(Iteration 1071 / 2450) loss: 1.869940\n",
      "(Iteration 1081 / 2450) loss: 1.859113\n",
      "(Iteration 1091 / 2450) loss: 1.826528\n",
      "(Iteration 1101 / 2450) loss: 1.904383\n",
      "(Iteration 1111 / 2450) loss: 1.893273\n",
      "(Iteration 1121 / 2450) loss: 1.820200\n",
      "(Iteration 1131 / 2450) loss: 1.838461\n",
      "(Iteration 1141 / 2450) loss: 1.778176\n",
      "(Iteration 1151 / 2450) loss: 1.888015\n",
      "(Iteration 1161 / 2450) loss: 1.802767\n",
      "(Iteration 1171 / 2450) loss: 1.867055\n",
      "(Iteration 1181 / 2450) loss: 1.886893\n",
      "(Iteration 1191 / 2450) loss: 1.894463\n",
      "(Iteration 1201 / 2450) loss: 1.919154\n",
      "(Iteration 1211 / 2450) loss: 1.900411\n",
      "(Iteration 1221 / 2450) loss: 1.845119\n",
      "(Iteration 1231 / 2450) loss: 1.921927\n",
      "(Iteration 1241 / 2450) loss: 1.701614\n",
      "(Iteration 1251 / 2450) loss: 1.932239\n",
      "(Iteration 1261 / 2450) loss: 2.010717\n",
      "(Iteration 1271 / 2450) loss: 1.830600\n",
      "(Iteration 1281 / 2450) loss: 1.882096\n",
      "(Iteration 1291 / 2450) loss: 2.032261\n",
      "(Iteration 1301 / 2450) loss: 1.767264\n",
      "(Iteration 1311 / 2450) loss: 1.783849\n",
      "(Iteration 1321 / 2450) loss: 1.889049\n",
      "(Iteration 1331 / 2450) loss: 1.798526\n",
      "(Iteration 1341 / 2450) loss: 1.879413\n",
      "(Iteration 1351 / 2450) loss: 1.989595\n",
      "(Iteration 1361 / 2450) loss: 1.834174\n",
      "(Iteration 1371 / 2450) loss: 1.927016\n",
      "(Iteration 1381 / 2450) loss: 1.848488\n",
      "(Iteration 1391 / 2450) loss: 1.974419\n",
      "(Iteration 1401 / 2450) loss: 1.880473\n",
      "(Iteration 1411 / 2450) loss: 1.796976\n",
      "(Iteration 1421 / 2450) loss: 1.884294\n",
      "(Iteration 1431 / 2450) loss: 1.793358\n",
      "(Iteration 1441 / 2450) loss: 1.846915\n",
      "(Iteration 1451 / 2450) loss: 1.829015\n",
      "(Iteration 1461 / 2450) loss: 1.870508\n",
      "(Epoch 3 / 5) train acc: 0.378000; val_acc: 0.389000\n",
      "(Iteration 1471 / 2450) loss: 1.792035\n",
      "(Iteration 1481 / 2450) loss: 1.898763\n",
      "(Iteration 1491 / 2450) loss: 1.862157\n",
      "(Iteration 1501 / 2450) loss: 1.965981\n",
      "(Iteration 1511 / 2450) loss: 1.882577\n",
      "(Iteration 1521 / 2450) loss: 1.792362\n",
      "(Iteration 1531 / 2450) loss: 1.772196\n",
      "(Iteration 1541 / 2450) loss: 1.795697\n",
      "(Iteration 1551 / 2450) loss: 1.882389\n",
      "(Iteration 1561 / 2450) loss: 1.783817\n",
      "(Iteration 1571 / 2450) loss: 1.799311\n",
      "(Iteration 1581 / 2450) loss: 1.920072\n",
      "(Iteration 1591 / 2450) loss: 1.764659\n",
      "(Iteration 1601 / 2450) loss: 1.853558\n",
      "(Iteration 1611 / 2450) loss: 1.842382\n",
      "(Iteration 1621 / 2450) loss: 1.677482\n",
      "(Iteration 1631 / 2450) loss: 1.990709\n",
      "(Iteration 1641 / 2450) loss: 1.864365\n",
      "(Iteration 1651 / 2450) loss: 1.849521\n",
      "(Iteration 1661 / 2450) loss: 1.823341\n",
      "(Iteration 1671 / 2450) loss: 1.901579\n",
      "(Iteration 1681 / 2450) loss: 1.967088\n",
      "(Iteration 1691 / 2450) loss: 1.707663\n",
      "(Iteration 1701 / 2450) loss: 1.834097\n",
      "(Iteration 1711 / 2450) loss: 1.738177\n",
      "(Iteration 1721 / 2450) loss: 1.743959\n",
      "(Iteration 1731 / 2450) loss: 1.800020\n",
      "(Iteration 1741 / 2450) loss: 1.813305\n",
      "(Iteration 1751 / 2450) loss: 1.823377\n",
      "(Iteration 1761 / 2450) loss: 1.724991\n",
      "(Iteration 1771 / 2450) loss: 1.716529\n",
      "(Iteration 1781 / 2450) loss: 1.862297\n",
      "(Iteration 1791 / 2450) loss: 1.661732\n",
      "(Iteration 1801 / 2450) loss: 1.642575\n",
      "(Iteration 1811 / 2450) loss: 1.898179\n",
      "(Iteration 1821 / 2450) loss: 1.779054\n",
      "(Iteration 1831 / 2450) loss: 1.715117\n",
      "(Iteration 1841 / 2450) loss: 1.826146\n",
      "(Iteration 1851 / 2450) loss: 1.831942\n",
      "(Iteration 1861 / 2450) loss: 1.715724\n",
      "(Iteration 1871 / 2450) loss: 1.651334\n",
      "(Iteration 1881 / 2450) loss: 1.929140\n",
      "(Iteration 1891 / 2450) loss: 1.966258\n",
      "(Iteration 1901 / 2450) loss: 1.871918\n",
      "(Iteration 1911 / 2450) loss: 1.755508\n",
      "(Iteration 1921 / 2450) loss: 1.848613\n",
      "(Iteration 1931 / 2450) loss: 1.711912\n",
      "(Iteration 1941 / 2450) loss: 1.750943\n",
      "(Iteration 1951 / 2450) loss: 1.729060\n",
      "(Epoch 4 / 5) train acc: 0.407000; val_acc: 0.407000\n",
      "(Iteration 1961 / 2450) loss: 1.708416\n",
      "(Iteration 1971 / 2450) loss: 1.763089\n",
      "(Iteration 1981 / 2450) loss: 1.887343\n",
      "(Iteration 1991 / 2450) loss: 1.761518\n",
      "(Iteration 2001 / 2450) loss: 1.853698\n",
      "(Iteration 2011 / 2450) loss: 1.835174\n",
      "(Iteration 2021 / 2450) loss: 1.831693\n",
      "(Iteration 2031 / 2450) loss: 1.924796\n",
      "(Iteration 2041 / 2450) loss: 1.743020\n",
      "(Iteration 2051 / 2450) loss: 2.010957\n",
      "(Iteration 2061 / 2450) loss: 1.852592\n"
     ]
    },
    {
     "name": "stdout",
     "output_type": "stream",
     "text": [
      "(Iteration 2071 / 2450) loss: 1.884347\n",
      "(Iteration 2081 / 2450) loss: 1.983970\n",
      "(Iteration 2091 / 2450) loss: 1.722125\n",
      "(Iteration 2101 / 2450) loss: 1.646762\n",
      "(Iteration 2111 / 2450) loss: 1.887745\n",
      "(Iteration 2121 / 2450) loss: 1.841743\n",
      "(Iteration 2131 / 2450) loss: 1.677059\n",
      "(Iteration 2141 / 2450) loss: 1.805035\n",
      "(Iteration 2151 / 2450) loss: 1.688518\n",
      "(Iteration 2161 / 2450) loss: 1.891521\n",
      "(Iteration 2171 / 2450) loss: 1.712456\n",
      "(Iteration 2181 / 2450) loss: 1.877210\n",
      "(Iteration 2191 / 2450) loss: 1.888699\n",
      "(Iteration 2201 / 2450) loss: 1.765696\n",
      "(Iteration 2211 / 2450) loss: 1.765956\n",
      "(Iteration 2221 / 2450) loss: 1.720107\n",
      "(Iteration 2231 / 2450) loss: 1.886132\n",
      "(Iteration 2241 / 2450) loss: 1.771209\n",
      "(Iteration 2251 / 2450) loss: 1.773066\n",
      "(Iteration 2261 / 2450) loss: 1.869972\n",
      "(Iteration 2271 / 2450) loss: 1.746719\n",
      "(Iteration 2281 / 2450) loss: 1.812851\n",
      "(Iteration 2291 / 2450) loss: 1.705789\n",
      "(Iteration 2301 / 2450) loss: 1.800205\n",
      "(Iteration 2311 / 2450) loss: 1.676957\n",
      "(Iteration 2321 / 2450) loss: 1.797283\n",
      "(Iteration 2331 / 2450) loss: 1.705066\n",
      "(Iteration 2341 / 2450) loss: 1.637096\n",
      "(Iteration 2351 / 2450) loss: 1.825960\n",
      "(Iteration 2361 / 2450) loss: 1.737063\n",
      "(Iteration 2371 / 2450) loss: 1.794648\n",
      "(Iteration 2381 / 2450) loss: 1.721396\n",
      "(Iteration 2391 / 2450) loss: 1.794456\n",
      "(Iteration 2401 / 2450) loss: 1.887536\n",
      "(Iteration 2411 / 2450) loss: 1.797733\n",
      "(Iteration 2421 / 2450) loss: 1.899574\n",
      "(Iteration 2431 / 2450) loss: 1.759573\n",
      "(Iteration 2441 / 2450) loss: 1.592436\n",
      "(Epoch 5 / 5) train acc: 0.402000; val_acc: 0.404000\n",
      "(Iteration 1 / 2450) loss: 2.346818\n",
      "(Epoch 0 / 5) train acc: 0.116000; val_acc: 0.112000\n",
      "(Iteration 11 / 2450) loss: 2.170935\n",
      "(Iteration 21 / 2450) loss: 2.096881\n",
      "(Iteration 31 / 2450) loss: 1.907986\n",
      "(Iteration 41 / 2450) loss: 2.022211\n",
      "(Iteration 51 / 2450) loss: 1.869376\n",
      "(Iteration 61 / 2450) loss: 1.844939\n",
      "(Iteration 71 / 2450) loss: 1.875005\n",
      "(Iteration 81 / 2450) loss: 1.873745\n",
      "(Iteration 91 / 2450) loss: 1.804783\n",
      "(Iteration 101 / 2450) loss: 1.734438\n",
      "(Iteration 111 / 2450) loss: 1.822506\n",
      "(Iteration 121 / 2450) loss: 1.703965\n",
      "(Iteration 131 / 2450) loss: 1.738629\n",
      "(Iteration 141 / 2450) loss: 1.665303\n",
      "(Iteration 151 / 2450) loss: 1.841956\n",
      "(Iteration 161 / 2450) loss: 1.718961\n",
      "(Iteration 171 / 2450) loss: 1.746617\n",
      "(Iteration 181 / 2450) loss: 1.900681\n",
      "(Iteration 191 / 2450) loss: 1.703202\n",
      "(Iteration 201 / 2450) loss: 1.855079\n",
      "(Iteration 211 / 2450) loss: 1.774299\n",
      "(Iteration 221 / 2450) loss: 1.700632\n",
      "(Iteration 231 / 2450) loss: 1.791218\n",
      "(Iteration 241 / 2450) loss: 1.800784\n",
      "(Iteration 251 / 2450) loss: 1.801141\n",
      "(Iteration 261 / 2450) loss: 1.612283\n",
      "(Iteration 271 / 2450) loss: 1.675324\n",
      "(Iteration 281 / 2450) loss: 1.835972\n",
      "(Iteration 291 / 2450) loss: 1.761025\n",
      "(Iteration 301 / 2450) loss: 1.643570\n",
      "(Iteration 311 / 2450) loss: 1.763820\n",
      "(Iteration 321 / 2450) loss: 1.821115\n",
      "(Iteration 331 / 2450) loss: 1.700573\n",
      "(Iteration 341 / 2450) loss: 1.695574\n",
      "(Iteration 351 / 2450) loss: 1.738003\n",
      "(Iteration 361 / 2450) loss: 1.567748\n",
      "(Iteration 371 / 2450) loss: 1.768705\n",
      "(Iteration 381 / 2450) loss: 1.592987\n",
      "(Iteration 391 / 2450) loss: 1.798365\n",
      "(Iteration 401 / 2450) loss: 1.574736\n",
      "(Iteration 411 / 2450) loss: 1.688126\n",
      "(Iteration 421 / 2450) loss: 1.689769\n",
      "(Iteration 431 / 2450) loss: 1.663456\n",
      "(Iteration 441 / 2450) loss: 1.843118\n",
      "(Iteration 451 / 2450) loss: 1.521161\n",
      "(Iteration 461 / 2450) loss: 1.685265\n",
      "(Iteration 471 / 2450) loss: 1.575740\n",
      "(Iteration 481 / 2450) loss: 1.680296\n",
      "(Epoch 1 / 5) train acc: 0.451000; val_acc: 0.453000\n",
      "(Iteration 491 / 2450) loss: 1.637750\n",
      "(Iteration 501 / 2450) loss: 1.558981\n",
      "(Iteration 511 / 2450) loss: 1.567754\n",
      "(Iteration 521 / 2450) loss: 1.889158\n",
      "(Iteration 531 / 2450) loss: 1.675525\n",
      "(Iteration 541 / 2450) loss: 1.722899\n",
      "(Iteration 551 / 2450) loss: 1.463143\n",
      "(Iteration 561 / 2450) loss: 1.509441\n",
      "(Iteration 571 / 2450) loss: 1.537315\n",
      "(Iteration 581 / 2450) loss: 1.621834\n",
      "(Iteration 591 / 2450) loss: 1.419395\n",
      "(Iteration 601 / 2450) loss: 1.539763\n",
      "(Iteration 611 / 2450) loss: 1.644981\n",
      "(Iteration 621 / 2450) loss: 1.565988\n",
      "(Iteration 631 / 2450) loss: 1.465074\n",
      "(Iteration 641 / 2450) loss: 1.532844\n",
      "(Iteration 651 / 2450) loss: 1.544501\n",
      "(Iteration 661 / 2450) loss: 1.563435\n",
      "(Iteration 671 / 2450) loss: 1.602261\n",
      "(Iteration 681 / 2450) loss: 1.690961\n",
      "(Iteration 691 / 2450) loss: 1.560265\n",
      "(Iteration 701 / 2450) loss: 1.667593\n",
      "(Iteration 711 / 2450) loss: 1.525292\n",
      "(Iteration 721 / 2450) loss: 1.583047\n",
      "(Iteration 731 / 2450) loss: 1.557381\n",
      "(Iteration 741 / 2450) loss: 1.857377\n",
      "(Iteration 751 / 2450) loss: 1.572024\n",
      "(Iteration 761 / 2450) loss: 1.550533\n",
      "(Iteration 771 / 2450) loss: 1.595838\n",
      "(Iteration 781 / 2450) loss: 1.480404\n",
      "(Iteration 791 / 2450) loss: 1.636589\n",
      "(Iteration 801 / 2450) loss: 1.585442\n",
      "(Iteration 811 / 2450) loss: 1.446723\n",
      "(Iteration 821 / 2450) loss: 1.593582\n",
      "(Iteration 831 / 2450) loss: 1.613958\n",
      "(Iteration 841 / 2450) loss: 1.687240\n",
      "(Iteration 851 / 2450) loss: 1.600756\n",
      "(Iteration 861 / 2450) loss: 1.428398\n",
      "(Iteration 871 / 2450) loss: 1.380056\n",
      "(Iteration 881 / 2450) loss: 1.540354\n",
      "(Iteration 891 / 2450) loss: 1.636370\n",
      "(Iteration 901 / 2450) loss: 1.553064\n",
      "(Iteration 911 / 2450) loss: 1.523979\n",
      "(Iteration 921 / 2450) loss: 1.540286\n",
      "(Iteration 931 / 2450) loss: 1.501209\n",
      "(Iteration 941 / 2450) loss: 1.437417\n",
      "(Iteration 951 / 2450) loss: 1.582534\n",
      "(Iteration 961 / 2450) loss: 1.617017\n",
      "(Iteration 971 / 2450) loss: 1.632531\n",
      "(Epoch 2 / 5) train acc: 0.496000; val_acc: 0.471000\n",
      "(Iteration 981 / 2450) loss: 1.425461\n",
      "(Iteration 991 / 2450) loss: 1.483605\n",
      "(Iteration 1001 / 2450) loss: 1.461814\n",
      "(Iteration 1011 / 2450) loss: 1.678430\n",
      "(Iteration 1021 / 2450) loss: 1.576477\n",
      "(Iteration 1031 / 2450) loss: 1.402389\n",
      "(Iteration 1041 / 2450) loss: 1.394487\n",
      "(Iteration 1051 / 2450) loss: 1.611997\n",
      "(Iteration 1061 / 2450) loss: 1.721859\n",
      "(Iteration 1071 / 2450) loss: 1.664372\n",
      "(Iteration 1081 / 2450) loss: 1.430824\n",
      "(Iteration 1091 / 2450) loss: 1.552279\n",
      "(Iteration 1101 / 2450) loss: 1.451865\n",
      "(Iteration 1111 / 2450) loss: 1.567770\n",
      "(Iteration 1121 / 2450) loss: 1.641650\n",
      "(Iteration 1131 / 2450) loss: 1.401029\n",
      "(Iteration 1141 / 2450) loss: 1.300896\n",
      "(Iteration 1151 / 2450) loss: 1.474157\n",
      "(Iteration 1161 / 2450) loss: 1.679849\n",
      "(Iteration 1171 / 2450) loss: 1.402036\n",
      "(Iteration 1181 / 2450) loss: 1.426092\n",
      "(Iteration 1191 / 2450) loss: 1.367008\n",
      "(Iteration 1201 / 2450) loss: 1.647249\n",
      "(Iteration 1211 / 2450) loss: 1.430722\n",
      "(Iteration 1221 / 2450) loss: 1.461595\n",
      "(Iteration 1231 / 2450) loss: 1.838923\n",
      "(Iteration 1241 / 2450) loss: 1.633648\n",
      "(Iteration 1251 / 2450) loss: 1.482048\n",
      "(Iteration 1261 / 2450) loss: 1.564166\n",
      "(Iteration 1271 / 2450) loss: 1.371805\n",
      "(Iteration 1281 / 2450) loss: 1.655390\n",
      "(Iteration 1291 / 2450) loss: 1.306323\n",
      "(Iteration 1301 / 2450) loss: 1.547724\n",
      "(Iteration 1311 / 2450) loss: 1.442265\n",
      "(Iteration 1321 / 2450) loss: 1.677312\n",
      "(Iteration 1331 / 2450) loss: 1.499055\n",
      "(Iteration 1341 / 2450) loss: 1.496297\n",
      "(Iteration 1351 / 2450) loss: 1.287934\n",
      "(Iteration 1361 / 2450) loss: 1.596922\n",
      "(Iteration 1371 / 2450) loss: 1.456486\n",
      "(Iteration 1381 / 2450) loss: 1.392592\n",
      "(Iteration 1391 / 2450) loss: 1.650231\n",
      "(Iteration 1401 / 2450) loss: 1.351794\n",
      "(Iteration 1411 / 2450) loss: 1.644830\n",
      "(Iteration 1421 / 2450) loss: 1.360258\n",
      "(Iteration 1431 / 2450) loss: 1.506661\n",
      "(Iteration 1441 / 2450) loss: 1.449078\n",
      "(Iteration 1451 / 2450) loss: 1.503618\n",
      "(Iteration 1461 / 2450) loss: 1.404226\n",
      "(Epoch 3 / 5) train acc: 0.504000; val_acc: 0.498000\n",
      "(Iteration 1471 / 2450) loss: 1.387132\n",
      "(Iteration 1481 / 2450) loss: 1.413202\n",
      "(Iteration 1491 / 2450) loss: 1.499719\n",
      "(Iteration 1501 / 2450) loss: 1.458759\n",
      "(Iteration 1511 / 2450) loss: 1.668739\n",
      "(Iteration 1521 / 2450) loss: 1.414708\n",
      "(Iteration 1531 / 2450) loss: 1.588477\n",
      "(Iteration 1541 / 2450) loss: 1.439648\n",
      "(Iteration 1551 / 2450) loss: 1.555774\n",
      "(Iteration 1561 / 2450) loss: 1.320230\n",
      "(Iteration 1571 / 2450) loss: 1.478380\n",
      "(Iteration 1581 / 2450) loss: 1.509159\n",
      "(Iteration 1591 / 2450) loss: 1.464611\n",
      "(Iteration 1601 / 2450) loss: 1.595486\n",
      "(Iteration 1611 / 2450) loss: 1.408847\n",
      "(Iteration 1621 / 2450) loss: 1.411437\n",
      "(Iteration 1631 / 2450) loss: 1.595340\n",
      "(Iteration 1641 / 2450) loss: 1.409516\n",
      "(Iteration 1651 / 2450) loss: 1.347525\n",
      "(Iteration 1661 / 2450) loss: 1.556752\n",
      "(Iteration 1671 / 2450) loss: 1.608628\n",
      "(Iteration 1681 / 2450) loss: 1.396919\n"
     ]
    },
    {
     "name": "stdout",
     "output_type": "stream",
     "text": [
      "(Iteration 1691 / 2450) loss: 1.427067\n",
      "(Iteration 1701 / 2450) loss: 1.429831\n",
      "(Iteration 1711 / 2450) loss: 1.293095\n",
      "(Iteration 1721 / 2450) loss: 1.277452\n",
      "(Iteration 1731 / 2450) loss: 1.403717\n",
      "(Iteration 1741 / 2450) loss: 1.441291\n",
      "(Iteration 1751 / 2450) loss: 1.327197\n",
      "(Iteration 1761 / 2450) loss: 1.360472\n",
      "(Iteration 1771 / 2450) loss: 1.432724\n",
      "(Iteration 1781 / 2450) loss: 1.343094\n",
      "(Iteration 1791 / 2450) loss: 1.591028\n",
      "(Iteration 1801 / 2450) loss: 1.612885\n",
      "(Iteration 1811 / 2450) loss: 1.250747\n",
      "(Iteration 1821 / 2450) loss: 1.335752\n",
      "(Iteration 1831 / 2450) loss: 1.440876\n",
      "(Iteration 1841 / 2450) loss: 1.465240\n",
      "(Iteration 1851 / 2450) loss: 1.359440\n",
      "(Iteration 1861 / 2450) loss: 1.445729\n",
      "(Iteration 1871 / 2450) loss: 1.423682\n",
      "(Iteration 1881 / 2450) loss: 1.494437\n",
      "(Iteration 1891 / 2450) loss: 1.427285\n",
      "(Iteration 1901 / 2450) loss: 1.423571\n",
      "(Iteration 1911 / 2450) loss: 1.399600\n",
      "(Iteration 1921 / 2450) loss: 1.409437\n",
      "(Iteration 1931 / 2450) loss: 1.611101\n",
      "(Iteration 1941 / 2450) loss: 1.395752\n",
      "(Iteration 1951 / 2450) loss: 1.390253\n",
      "(Epoch 4 / 5) train acc: 0.489000; val_acc: 0.501000\n",
      "(Iteration 1961 / 2450) loss: 1.506916\n",
      "(Iteration 1971 / 2450) loss: 1.535468\n",
      "(Iteration 1981 / 2450) loss: 1.552048\n",
      "(Iteration 1991 / 2450) loss: 1.474483\n",
      "(Iteration 2001 / 2450) loss: 1.520628\n",
      "(Iteration 2011 / 2450) loss: 1.622077\n",
      "(Iteration 2021 / 2450) loss: 1.225345\n",
      "(Iteration 2031 / 2450) loss: 1.583378\n",
      "(Iteration 2041 / 2450) loss: 1.480470\n",
      "(Iteration 2051 / 2450) loss: 1.365159\n",
      "(Iteration 2061 / 2450) loss: 1.405189\n",
      "(Iteration 2071 / 2450) loss: 1.341781\n",
      "(Iteration 2081 / 2450) loss: 1.348699\n",
      "(Iteration 2091 / 2450) loss: 1.549894\n",
      "(Iteration 2101 / 2450) loss: 1.222793\n",
      "(Iteration 2111 / 2450) loss: 1.309708\n",
      "(Iteration 2121 / 2450) loss: 1.178667\n",
      "(Iteration 2131 / 2450) loss: 1.462421\n",
      "(Iteration 2141 / 2450) loss: 1.340377\n",
      "(Iteration 2151 / 2450) loss: 1.261710\n",
      "(Iteration 2161 / 2450) loss: 1.477761\n",
      "(Iteration 2171 / 2450) loss: 1.496405\n",
      "(Iteration 2181 / 2450) loss: 1.520072\n",
      "(Iteration 2191 / 2450) loss: 1.326987\n",
      "(Iteration 2201 / 2450) loss: 1.424918\n",
      "(Iteration 2211 / 2450) loss: 1.556797\n",
      "(Iteration 2221 / 2450) loss: 1.439127\n",
      "(Iteration 2231 / 2450) loss: 1.356689\n",
      "(Iteration 2241 / 2450) loss: 1.510355\n",
      "(Iteration 2251 / 2450) loss: 1.381279\n",
      "(Iteration 2261 / 2450) loss: 1.108373\n",
      "(Iteration 2271 / 2450) loss: 1.595991\n",
      "(Iteration 2281 / 2450) loss: 1.426170\n",
      "(Iteration 2291 / 2450) loss: 1.434308\n",
      "(Iteration 2301 / 2450) loss: 1.587357\n",
      "(Iteration 2311 / 2450) loss: 1.411812\n",
      "(Iteration 2321 / 2450) loss: 1.426311\n",
      "(Iteration 2331 / 2450) loss: 1.473602\n",
      "(Iteration 2341 / 2450) loss: 1.330380\n",
      "(Iteration 2351 / 2450) loss: 1.439326\n",
      "(Iteration 2361 / 2450) loss: 1.404886\n",
      "(Iteration 2371 / 2450) loss: 1.509758\n",
      "(Iteration 2381 / 2450) loss: 1.221464\n",
      "(Iteration 2391 / 2450) loss: 1.376966\n",
      "(Iteration 2401 / 2450) loss: 1.433394\n",
      "(Iteration 2411 / 2450) loss: 1.372459\n",
      "(Iteration 2421 / 2450) loss: 1.393666\n",
      "(Iteration 2431 / 2450) loss: 1.444407\n",
      "(Iteration 2441 / 2450) loss: 1.302475\n",
      "(Epoch 5 / 5) train acc: 0.546000; val_acc: 0.518000\n"
     ]
    }
   ],
   "source": [
    "best_model = None\n",
    "################################################################################\n",
    "# TODO: Train the best FullyConnectedNet that you can on CIFAR-10. You might   #\n",
    "# find batch/layer normalization and dropout useful. Store your best model in  #\n",
    "# the best_model variable.                                                     #\n",
    "################################################################################\n",
    "# *****START OF YOUR CODE (DO NOT DELETE/MODIFY THIS LINE)*****\n",
    "\n",
    "best_acc = -1\n",
    "\n",
    "for drOut in [0.5, 0.9]:\n",
    "        model = FullyConnectedNet([100, 100, 100, 100, 100], weight_scale=5e-2, normalization = 'batchnorm', dropout = drOut) \n",
    "        solver = Solver(model, data,\n",
    "                      num_epochs=5, batch_size=100,\n",
    "                      update_rule='adam', \n",
    "                      optim_config={\n",
    "                        'learning_rate': 5e-3,\n",
    "                      },\n",
    "                      verbose=True)\n",
    "        solvers[update_rule] = solver\n",
    "        solver.train()\n",
    "        if solver.val_acc_history[-1] > best_acc:\n",
    "            best_acc = solver.val_acc_history[-1]\n",
    "            best_model = model\n",
    "\n",
    "# *****END OF YOUR CODE (DO NOT DELETE/MODIFY THIS LINE)*****\n",
    "################################################################################\n",
    "#                              END OF YOUR CODE                                #\n",
    "################################################################################"
   ]
  },
  {
   "cell_type": "markdown",
   "metadata": {
    "id": "CyWnX9a8tcmx"
   },
   "source": [
    "# Test your model!\n",
    "Run your best model on the validation and test sets. You should achieve above 50% accuracy on the validation set."
   ]
  },
  {
   "cell_type": "code",
   "execution_count": 24,
   "metadata": {
    "id": "BDUQWs9utcmx"
   },
   "outputs": [
    {
     "name": "stdout",
     "output_type": "stream",
     "text": [
      "Validation set accuracy:  0.518\n",
      "Test set accuracy:  0.507\n"
     ]
    }
   ],
   "source": [
    "y_test_pred = np.argmax(best_model.loss(data['X_test']), axis=1)\n",
    "y_val_pred = np.argmax(best_model.loss(data['X_val']), axis=1)\n",
    "print('Validation set accuracy: ', (y_val_pred == data['y_val']).mean())\n",
    "print('Test set accuracy: ', (y_test_pred == data['y_test']).mean())"
   ]
  },
  {
   "cell_type": "code",
   "execution_count": null,
   "metadata": {},
   "outputs": [],
   "source": []
  }
 ],
 "metadata": {
  "colab": {
   "collapsed_sections": [],
   "name": "FullyConnectedNets.ipynb",
   "provenance": [],
   "toc_visible": true
  },
  "kernelspec": {
   "display_name": "Python 3",
   "language": "python",
   "name": "python3"
  },
  "language_info": {
   "codemirror_mode": {
    "name": "ipython",
    "version": 3
   },
   "file_extension": ".py",
   "mimetype": "text/x-python",
   "name": "python",
   "nbconvert_exporter": "python",
   "pygments_lexer": "ipython3",
   "version": "3.8.6"
  }
 },
 "nbformat": 4,
 "nbformat_minor": 1
}
